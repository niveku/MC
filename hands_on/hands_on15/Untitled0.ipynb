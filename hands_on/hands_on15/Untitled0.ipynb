{
 "metadata": {
  "name": "",
  "signature": "sha256:e44f912816b71a1244fb5a686e6b2252ce5d2f8f211da3a14ee1f01866280366"
 },
 "nbformat": 3,
 "nbformat_minor": 0,
 "worksheets": [
  {
   "cells": [
    {
     "cell_type": "code",
     "collapsed": false,
     "input": [
      "import numpy as np\n",
      "import random \n",
      "import matplotlib.pyplot as plt\n",
      "\n",
      "repeticiones=100.\n",
      "sillas=[]\n",
      "totales=[]\n",
      "resultado=[]\n",
      "\n",
      "def check():\n",
      "    global resultado\n",
      "    global sillas\n",
      "    seencontro=False\n",
      "    for i in range(len(sillas)):\n",
      "        if sillas[i] == 0 and seencontro==False:\n",
      "            if sillas [i-1] == 1 and sillas [(i+1)%len(sillas)] == 1:\n",
      "                seencontro=True\n",
      "                resultado.append(1)\n",
      "                \n",
      "def mesa(colombianos):\n",
      "    global resultado\n",
      "    global repeticiones\n",
      "    global sillas\n",
      "    sillas = [0]*10 + [1]*colombianos\n",
      "    resultado=[]\n",
      "    print resultado\n",
      "    for j in range (int(repeticiones)):\n",
      "        random.shuffle(sillas)                \n",
      "        check()\n",
      "    totales.append( sum(resultado)/repeticiones)\n",
      " \n",
      "x=np.linspace(2,20,19)\n",
      "print x\n",
      "for xs in x:\n",
      "    mesa(int(xs))\n",
      "\n",
      "totales=np.array(totales)\n",
      "print totales\n",
      "print sillas\n",
      "\n",
      "print np.shape(x), np.shape(totales)\n",
      "plt.figure()\n",
      "plt.plot(x,totales)\n",
      "plt.show()"
     ],
     "language": "python",
     "metadata": {},
     "outputs": [
      {
       "output_type": "stream",
       "stream": "stdout",
       "text": [
        "[  2.   3.   4.   5.   6.   7.   8.   9.  10.  11.  12.  13.  14.  15.  16.\n",
        "  17.  18.  19.  20.]\n",
        "[]\n",
        "[]\n",
        "[]\n",
        "[]\n",
        "[]\n",
        "[]\n",
        "[]\n",
        "[]\n",
        "[]\n",
        "[]\n",
        "[]\n",
        "[]\n",
        "[]\n",
        "[]\n",
        "[]\n",
        "[]\n",
        "[]\n",
        "[]\n",
        "[]\n",
        "[ 0.16  0.33  0.63  0.69  0.85  0.89  0.92  0.93  0.96  0.92  0.95  1.\n",
        "  0.98  0.99  1.    0.99  0.99  1.    1.  ]\n",
        "[1, 1, 1, 1, 1, 0, 1, 1, 1, 1, 1, 0, 1, 0, 0, 1, 1, 1, 0, 1, 0, 1, 1, 1, 1, 0, 1, 0, 0, 0]\n",
        "(19,) (19,)\n"
       ]
      }
     ],
     "prompt_number": 97
    },
    {
     "cell_type": "code",
     "collapsed": false,
     "input": [
      "print(np.shape(x))"
     ],
     "language": "python",
     "metadata": {},
     "outputs": [
      {
       "output_type": "stream",
       "stream": "stdout",
       "text": [
        "(5,)\n"
       ]
      }
     ],
     "prompt_number": 82
    },
    {
     "cell_type": "code",
     "collapsed": false,
     "input": [],
     "language": "python",
     "metadata": {},
     "outputs": [],
     "prompt_number": 87
    },
    {
     "cell_type": "code",
     "collapsed": false,
     "input": [],
     "language": "python",
     "metadata": {},
     "outputs": []
    }
   ],
   "metadata": {}
  }
 ]
}