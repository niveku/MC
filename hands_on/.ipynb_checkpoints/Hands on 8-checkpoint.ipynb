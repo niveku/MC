{
 "metadata": {
  "name": "",
  "signature": "sha256:dc69a0abb86c375529af0fa776ae2a1c2c3f3676c6f7bcd8e37f54e1f7f66509"
 },
 "nbformat": 3,
 "nbformat_minor": 0,
 "worksheets": [
  {
   "cells": [
    {
     "cell_type": "code",
     "collapsed": false,
     "input": [
      "import numpy as np\n",
      "from scipy.optimize import root\n",
      "\n",
      "def func (M1,M2,R,r):\n",
      "    return M1/(R-r)**2 = M2/r**2 + ((M1/(M1 + M2)*(R-r))*((M1+M2)/R**3)\n"
     ],
     "language": "python",
     "metadata": {},
     "outputs": []
    }
   ],
   "metadata": {}
  }
 ]
}