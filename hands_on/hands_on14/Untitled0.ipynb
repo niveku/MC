{
 "metadata": {
  "name": "",
  "signature": "sha256:0b5ad21b10f687a83ee9c85da33c5265046770aa5506da5ba7072e6492103503"
 },
 "nbformat": 3,
 "nbformat_minor": 0,
 "worksheets": []
}