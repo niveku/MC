{
 "metadata": {
  "name": "",
  "signature": "sha256:fc468172f39661836414467dbd7d787b9a87b3049e52f9ff43b212b2ab1adfd6"
 },
 "nbformat": 3,
 "nbformat_minor": 0,
 "worksheets": [
  {
   "cells": [
    {
     "cell_type": "code",
     "collapsed": false,
     "input": [
      "import numpy as np\n",
      "from scipy.optimize import root\n",
      "def func (M1,M2,R,r):\n",
      "return M1/(R-r)**2 = M2/r**2 + ((M1/M1 + M2)*(R-r))*((M1+M2)/R*)"
     ],
     "language": "python",
     "metadata": {},
     "outputs": []
    }
   ],
   "metadata": {}
  }
 ]
}