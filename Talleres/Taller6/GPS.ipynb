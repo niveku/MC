{
 "metadata": {
  "name": "",
  "signature": "sha256:8146b69f92f941579aea10447ccce3c2859abb8f10d4582f69d45c7ad6d22151"
 },
 "nbformat": 3,
 "nbformat_minor": 0,
 "worksheets": [
  {
   "cells": [
    {
     "cell_type": "code",
     "collapsed": false,
     "input": [
      "%pylab inline\n",
      "archivo = genfromtxt(\"cleanFile.csv\", delimiter = \",\")\n",
      "lat = (90 - archivo[:,0]) * (pi)/180\n",
      "lon = archivo[:,1] * (pi)/180\n",
      "ele = archivo[:,2]\n",
      "hora = archivo[:,3]\n",
      "minuto = archivo[:,4]\n",
      "segundo = archivo[:,5]\n",
      "R = 6.371 * 1000\n",
      "x = R*sin(lat)*cos(lon)\n",
      "y = R*sin(lat)*sin(lon)\n",
      "z = R*cos(lat)\n",
      "print x[1] \n",
      "print y[2]"
     ],
     "language": "python",
     "metadata": {},
     "outputs": [
      {
       "output_type": "stream",
       "stream": "stdout",
       "text": [
        "Populating the interactive namespace from numpy and matplotlib\n",
        "1741.96349586\n",
        "141.722356665\n"
       ]
      }
     ],
     "prompt_number": 19
    },
    {
     "cell_type": "code",
     "collapsed": false,
     "input": [
      "#grep -E \"<trkp|<ele>|<time>\" running_dirty_nov.gpx | sed 's/<trkpt lon=\\\"//g'| \n",
      "#sed 's/\" lat=\\\"/,/g' | sed 's/\">/,/g'| sed 's/<ele>//g' | sed 's/<\\/ele>/,/g' | \n",
      "#sed 's/<time>.*T//g'| sed 's/.....<\\/time>//g' | sed ':a;N;$!ba;s/,\\n/,/g' | sed 's/ *//g' | \n",
      "#sed 's/:/,/g'| tail -n +2 > cleanFile.csv\n",
      "# 180 >>>> pi\n",
      "# x >>>>> y\n",
      "# y = x*pi/180"
     ],
     "language": "python",
     "metadata": {},
     "outputs": []
    }
   ],
   "metadata": {}
  }
 ]
}