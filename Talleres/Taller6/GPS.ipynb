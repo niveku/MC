{
 "metadata": {
  "name": "",
  "signature": "sha256:402a8d88223d56e1a74a18deb2252748aca9619a1def96ab7c531a2aae8d78ca"
 },
 "nbformat": 3,
 "nbformat_minor": 0,
 "worksheets": [
  {
   "cells": [
    {
     "cell_type": "code",
     "collapsed": false,
     "input": [
      "%pylab inline\n",
      "archivo = genfromtxt(\"cleanFile.csv\", delimiter = \",\")\n",
      "lon = archivo[:,0] * (pi)/180.\n",
      "lat = (90-archivo[:,1]) * (pi)/180.\n",
      "\n",
      "#ele = archivo[:,2]\n",
      "#hora = archivo[:,3]\n",
      "#minuto = archivo[:,4]\n",
      "#segundo = archivo[:,5]\n",
      "\n",
      "R = 6.371 * 1000\n",
      "x = R*cos(lon)*sin(lat)\n",
      "y = R*sin(lon)*sin(lat)\n",
      "z = R*cos(lat)\n",
      "#r = [x,y,z]\n",
      "\n",
      "\n",
      "#Reproyecci\u00f3n\n",
      "lonbog= 74.0451 * (pi)/180.\n",
      "latbog= (90-4.3556) * (pi)/180.\n",
      "\n",
      "\n",
      "vori = ([-sin(lonbog),cos(lonbog),0])\n",
      "vnor = [cos(lonbog)*cos(latbog), sin(lonbog)*cos(latbog), -sin(latbog)]\n",
      "\n",
      "oriente = zeros(len(x))\n",
      "norte = zeros(len(x))\n",
      "\n",
      "for i in range (len (x)):\n",
      "    \n",
      "    a = x[i]*vori[0]\n",
      "    b = y[i]*vori[1]\n",
      "    c = z[i]*vori[2]\n",
      "    oriente[i] = a + b + c\n",
      "    \n",
      "    a1 = x[i]*vnor[0]\n",
      "    b1 = y[i]*vnor[1]\n",
      "    c1 = z[i]*vnor[2]\n",
      "    norte[i] = a1 + b1 + c1\n",
      "    \n",
      "fig = figure( figsize = (10,10))\n",
      "p = fig.add_subplot(1,1,1,) \n",
      "plot(-oriente,-norte, color = \"red\")\n",
      "axis('off')\n",
      "p.set_aspect('equal')\n",
      "show()"
     ],
     "language": "python",
     "metadata": {},
     "outputs": [
      {
       "output_type": "stream",
       "stream": "stdout",
       "text": [
        "Populating the interactive namespace from numpy and matplotlib\n"
       ]
      },
      {
       "metadata": {},
       "output_type": "display_data",
       "png": "[encoded data removed]",
       "text": [
        "<matplotlib.figure.Figure at 0x2977390>"
       ]
      }
     ],
     "prompt_number": 3
    },
    {
     "cell_type": "code",
     "collapsed": false,
     "input": [
      "#grep -E \"<trkp|<ele>|<time>\" running_dirty_nov.gpx | sed 's/<trkpt lon=\\\"//g'| \n",
      "#sed 's/\" lat=\\\"/,/g' | sed 's/\">/,/g'| sed 's/<ele>//g' | sed 's/<\\/ele>/,/g' | \n",
      "#sed 's/<time>.*T//g'| sed 's/.....<\\/time>//g' | sed ':a;N;$!ba;s/,\\n/,/g' | sed 's/ *//g' | \n",
      "#sed 's/:/,/g'| tail -n +2 > cleanFile.csv\n",
      "# 180 >>>> pi\n",
      "# x >>>>> y\n",
      "# y = x*pi/180"
     ],
     "language": "python",
     "metadata": {},
     "outputs": [],
     "prompt_number": 81
    },
    {
     "cell_type": "code",
     "collapsed": false,
     "input": [
      "longbog = 0\n",
      "print ([sin(longbog),cos(longbog),0])"
     ],
     "language": "python",
     "metadata": {},
     "outputs": [
      {
       "output_type": "stream",
       "stream": "stdout",
       "text": [
        "[0.0, 1.0, 0]\n"
       ]
      }
     ],
     "prompt_number": 26
    },
    {
     "cell_type": "code",
     "collapsed": false,
     "input": [],
     "language": "python",
     "metadata": {},
     "outputs": []
    }
   ],
   "metadata": {}
  }
 ]
}