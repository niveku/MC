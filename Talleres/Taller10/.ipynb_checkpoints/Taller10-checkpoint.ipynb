{
 "metadata": {
  "name": "",
  "signature": "sha256:41b7b38699d74f2e597eaefd71e6a5385b5dc7872476c1dec6775e8df8c28f69"
 },
 "nbformat": 3,
 "nbformat_minor": 0,
 "worksheets": [
  {
   "cells": [
    {
     "cell_type": "code",
     "collapsed": false,
     "input": [
      "import numpy as np\n",
      "import matplotlib as mpl; import matplotlib.pyplot as plt\n",
      "%matplotlib inline\n",
      "\n",
      "N=20\n",
      "lattice=np.ones((N,N,N)) #Cubo de 20\u00b3 celdas \n",
      "T=20. #Temperatura para que se noten los cambios.\n",
      "beta=1./T\n",
      "def total_energy(): #Ajustado para los 3 ejes\n",
      "    global lattice\n",
      "    return -sum(sum(lattice*(np.roll(lattice,1,axis=0)+\n",
      "                         np.roll(lattice,-1,axis=0)+\n",
      "                         np.roll(lattice,1,axis=1)+\n",
      "                         np.roll(lattice,-1,axis=1)+\n",
      "                         np.roll(lattice,1,axis=2)+\n",
      "                         np.roll(lattice,-1,axis=2))))\n",
      "def block_energy(i,j,k): #Ajustado para 3 ejes.\n",
      "    global lattice\n",
      "    global N\n",
      "    return -(lattice[i,j,k]*(lattice[(i-1)%N,j,k]+\n",
      "                                  lattice[(i+1)%N,j,k]+\n",
      "                                  lattice[i,(j+1)%N,k]+\n",
      "                                  lattice[i,(j-1)%N,k]+\n",
      "                                  lattice[i,j,(k+1)%N]+\n",
      "                                  lattice[i,j,(k-1)%N]))\n",
      "def flipone(): #Con fronteras periodicas tenidas en cuenta en m\u00e9todos anteriores.\n",
      "    global lattice\n",
      "    global beta\n",
      "    global N\n",
      "    #Sitio al azar.\n",
      "    nx, ny, nz= np.random.randint(0,N),np.random.randint(0,N),np.random.randint(0,N)\n",
      "    #calcula la energ\u00eda del sector y sus vecinos.\n",
      "    en_i=block_energy(nx,ny,nz)\n",
      "    # Invertido.\n",
      "    en_f=-en_i\n",
      "    \n",
      "    if en_f<en_i: \n",
      "        lattice[nx,ny,nz]*=-1\n",
      "        \n",
      "    elif np.random.random()<min(1,np.exp(-beta*(en_f-en_i))): \n",
      "        lattice[nx,ny,nz]*=-1\n",
      "        \n",
      "def magnetization():\n",
      "    global lattice\n",
      "    global N\n",
      "    return sum(sum(lattice))/N**2 "
     ],
     "language": "python",
     "metadata": {},
     "outputs": [],
     "prompt_number": 1
    },
    {
     "cell_type": "code",
     "collapsed": false,
     "input": [
      "%matplotlib tk\n",
      "from matplotlib import animation\n",
      "T=20.\n",
      "beta=1./T\n",
      "fig=plt.figure(figsize=(10,10))\n",
      "tplot=plt.imshow(lattice[10],cmap='gist_heat',vmin=-1.,vmax=1.,interpolation='None')\n",
      "\n",
      "def animate(i):\n",
      "    global lattice\n",
      "    for __ in range(100):\n",
      "        flipone()\n",
      "    tplot.set_array(lattice[10])\n",
      "\n",
      "animacion = animation.FuncAnimation(fig, animate, np.arange(2,100000),interval=1, blit=False)\n",
      "plt.show()"
     ],
     "language": "python",
     "metadata": {},
     "outputs": [],
     "prompt_number": 2
    },
    {
     "cell_type": "code",
     "collapsed": false,
     "input": [
      "magnetizaciones=[]\n",
      "lattice=np.ones((N,N,N))#Reinicia el cubo.\n",
      "numIter=int(1e6)\n",
      "revisa=10 #Cuantos estados se revisan.\n",
      "for temp in np.linspace(0.1,8,40):\n",
      "    porc = temp/8*100\n",
      "    if temp == 0.1:\n",
      "        print (\"Se inicia el proceso con \" + str(numIter)+ \n",
      "        \" iteraciones: \\n\")\n",
      "    print ( \"%.0f\" % porc) + \"%\" \n",
      "    if porc == 100:\n",
      "       print \"\\nProceso finalizado exitosamente.\"\n",
      "    T=temp\n",
      "    beta=1./T\n",
      "    mag=[]\n",
      "    for i in range(numIter):\n",
      "        flipone()\n",
      "        if i>numIter-revisa: #Revisa s\u00f3lo los \u00faltimos 10 estados de magnetizaci\u00f3n.\n",
      "            mag.append(magnetization())\n",
      "    magnetizaciones.append([T,np.mean(mag)/revisa]) #Halla el promedio de dichas magnetizaciones.\n",
      "magnetizaciones=np.array(magnetizaciones) #vectoriza la lista."
     ],
     "language": "python",
     "metadata": {},
     "outputs": [
      {
       "output_type": "stream",
       "stream": "stdout",
       "text": [
        "Se inicia el proceso con 1000000 iteraciones: \n",
        "\n",
        "1%\n",
        "4%"
       ]
      },
      {
       "output_type": "stream",
       "stream": "stdout",
       "text": [
        "\n",
        "6%"
       ]
      },
      {
       "output_type": "stream",
       "stream": "stdout",
       "text": [
        "\n",
        "9%"
       ]
      },
      {
       "output_type": "stream",
       "stream": "stdout",
       "text": [
        "\n",
        "11%"
       ]
      },
      {
       "output_type": "stream",
       "stream": "stdout",
       "text": [
        "\n",
        "14%"
       ]
      },
      {
       "output_type": "stream",
       "stream": "stdout",
       "text": [
        "\n",
        "16%"
       ]
      },
      {
       "output_type": "stream",
       "stream": "stdout",
       "text": [
        "\n",
        "19%"
       ]
      },
      {
       "output_type": "stream",
       "stream": "stdout",
       "text": [
        "\n",
        "22%"
       ]
      },
      {
       "output_type": "stream",
       "stream": "stdout",
       "text": [
        "\n",
        "24%"
       ]
      },
      {
       "output_type": "stream",
       "stream": "stdout",
       "text": [
        "\n",
        "27%"
       ]
      },
      {
       "output_type": "stream",
       "stream": "stdout",
       "text": [
        "\n",
        "29%"
       ]
      },
      {
       "output_type": "stream",
       "stream": "stdout",
       "text": [
        "\n",
        "32%"
       ]
      },
      {
       "output_type": "stream",
       "stream": "stdout",
       "text": [
        "\n",
        "34%"
       ]
      },
      {
       "output_type": "stream",
       "stream": "stdout",
       "text": [
        "\n",
        "37%"
       ]
      },
      {
       "output_type": "stream",
       "stream": "stdout",
       "text": [
        "\n",
        "39%"
       ]
      },
      {
       "output_type": "stream",
       "stream": "stdout",
       "text": [
        "\n",
        "42%"
       ]
      },
      {
       "output_type": "stream",
       "stream": "stdout",
       "text": [
        "\n",
        "44%"
       ]
      },
      {
       "output_type": "stream",
       "stream": "stdout",
       "text": [
        "\n",
        "47%"
       ]
      },
      {
       "output_type": "stream",
       "stream": "stdout",
       "text": [
        "\n",
        "49%"
       ]
      },
      {
       "output_type": "stream",
       "stream": "stdout",
       "text": [
        "\n",
        "52%"
       ]
      },
      {
       "output_type": "stream",
       "stream": "stdout",
       "text": [
        "\n",
        "54%"
       ]
      },
      {
       "output_type": "stream",
       "stream": "stdout",
       "text": [
        "\n",
        "57%"
       ]
      },
      {
       "output_type": "stream",
       "stream": "stdout",
       "text": [
        "\n",
        "59%"
       ]
      },
      {
       "output_type": "stream",
       "stream": "stdout",
       "text": [
        "\n",
        "62%"
       ]
      },
      {
       "output_type": "stream",
       "stream": "stdout",
       "text": [
        "\n",
        "65%"
       ]
      },
      {
       "output_type": "stream",
       "stream": "stdout",
       "text": [
        "\n",
        "67%"
       ]
      },
      {
       "output_type": "stream",
       "stream": "stdout",
       "text": [
        "\n",
        "70%"
       ]
      },
      {
       "output_type": "stream",
       "stream": "stdout",
       "text": [
        "\n",
        "72%"
       ]
      },
      {
       "output_type": "stream",
       "stream": "stdout",
       "text": [
        "\n",
        "75%"
       ]
      },
      {
       "output_type": "stream",
       "stream": "stdout",
       "text": [
        "\n",
        "77%"
       ]
      },
      {
       "output_type": "stream",
       "stream": "stdout",
       "text": [
        "\n",
        "80%"
       ]
      },
      {
       "output_type": "stream",
       "stream": "stdout",
       "text": [
        "\n",
        "82%"
       ]
      },
      {
       "output_type": "stream",
       "stream": "stdout",
       "text": [
        "\n",
        "85%"
       ]
      },
      {
       "output_type": "stream",
       "stream": "stdout",
       "text": [
        "\n",
        "87%"
       ]
      },
      {
       "output_type": "stream",
       "stream": "stdout",
       "text": [
        "\n",
        "90%"
       ]
      },
      {
       "output_type": "stream",
       "stream": "stdout",
       "text": [
        "\n",
        "92%"
       ]
      },
      {
       "output_type": "stream",
       "stream": "stdout",
       "text": [
        "\n",
        "95%"
       ]
      },
      {
       "output_type": "stream",
       "stream": "stdout",
       "text": [
        "\n",
        "97%"
       ]
      },
      {
       "output_type": "stream",
       "stream": "stdout",
       "text": [
        "\n",
        "100%"
       ]
      },
      {
       "output_type": "stream",
       "stream": "stdout",
       "text": [
        "\n",
        "\n",
        "Proceso finalizado exitosamente.\n"
       ]
      }
     ],
     "prompt_number": 6
    },
    {
     "cell_type": "code",
     "collapsed": false,
     "input": [
      "%matplotlib inline\n",
      "plt.figure(figsize=(10,6))\n",
      "plt.plot(magnetizaciones[:,0],magnetizaciones[:,1],\"o--\")\n",
      "plt.xlabel(\"T/J\")\n",
      "plt.ylabel(\"M/N\")\n",
      "plt.ylim(min(magnetizaciones[:,1]-0.005),max(magnetizaciones[:,1])+0.005)\n",
      "plt.title(u\"Ising 3D - Magnetizaci\u00f3n \\n\") \n",
      "plt.axvline(4.51, color='red') #Temperatura de transici\u00f3n.\n",
      "plt.axhline(0,color = 'black')\n",
      "plt.show()"
     ],
     "language": "python",
     "metadata": {},
     "outputs": [
      {
       "metadata": {},
       "output_type": "display_data",
       "png": "[encoded data removed]",
       "text": [
        "<matplotlib.figure.Figure at 0x7f76ecc869d0>"
       ]
      }
     ],
     "prompt_number": 7
    },
    {
     "cell_type": "code",
     "collapsed": false,
     "input": [],
     "language": "python",
     "metadata": {},
     "outputs": []
    }
   ],
   "metadata": {}
  }
 ]
}