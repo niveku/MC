{
 "metadata": {
  "name": "",
  "signature": "sha256:ece2a0a14fd4c50e4eaae45a7de55acb0dbf9ec617fad25eea3124ae4899fb6b"
 },
 "nbformat": 3,
 "nbformat_minor": 0,
 "worksheets": [
  {
   "cells": [
    {
     "cell_type": "code",
     "collapsed": false,
     "input": [
      "import numpy as np\n",
      "import matplotlib as mpl; import matplotlib.pyplot as plt\n",
      "%matplotlib inline\n",
      "\n",
      "N=20\n",
      "lattice=np.ones((N,N,N))\n",
      "T=10.\n",
      "beta=1./T\n",
      "def total_energy():\n",
      "    global lattice\n",
      "    return -sum(sum(lattice*(np.roll(lattice,1,axis=2)+\n",
      "                         np.roll(lattice,-1,axis=2)+\n",
      "                         np.roll(lattice,1,axis=1)+\n",
      "                         np.roll(lattice,-1,axis=1)+\n",
      "                         np.roll(lattice,1,axis=0)+\n",
      "                         np.roll(lattice,-1,axis=0))))\n",
      "def block_energy(i,j,k):\n",
      "    global lattice\n",
      "    global N\n",
      "    return -(lattice[i,j,k]*(lattice[(i-1)%N,j,k]+\n",
      "                                  lattice[(i+1)%N,j,k]+\n",
      "                                  lattice[i,(j+1)%N,k]+\n",
      "                                  lattice[i,(j-1)%N,k]+\n",
      "                                  lattice[i,j,(k+1)%N]+\n",
      "                                  lattice[i,j,(k-1)%N]))\n",
      "def flipone():\n",
      "    global lattice\n",
      "    global beta\n",
      "    global N\n",
      "    # Pick a random site\n",
      "    nx, ny, nz = np.random.randint(0,N),np.random.randint(0,N),np.random.randint(0,N)\n",
      "    # Calculate current energy of site and neighbors\n",
      "    en_i=block_energy(nx,ny,nz)\n",
      "    # If it were flipped\n",
      "    en_f=-en_i\n",
      "    if en_f<en_i: # This could be simplified\n",
      "        lattice[nx,ny,nz]*=-1\n",
      "    elif np.random.random()<min(1,np.exp(-beta*(en_f-en_i))):\n",
      "        lattice[nx,ny,nz]*=-1\n",
      "        \n",
      "def magnetization():\n",
      "    global lattice\n",
      "    global N\n",
      "    return sum(sum(lattice))/N**2"
     ],
     "language": "python",
     "metadata": {},
     "outputs": [],
     "prompt_number": 37
    },
    {
     "cell_type": "code",
     "collapsed": false,
     "input": [
      "# Animaci\u00f3n\n",
      "%matplotlib tk\n",
      "from matplotlib import animation\n",
      "T=10\n",
      "beta=1./T\n",
      "fig=plt.figure(figsize=(10,10))\n",
      "tplot=plt.imshow(lattice[10],cmap='gist_heat',vmin=-1.,vmax=1.,interpolation='None')\n",
      "#plt.xlim(xmin+dx,xmax-dx)\n",
      "#plt.ylim(ymin+dy,ymax-dy)\n",
      "\n",
      "def animate(i):\n",
      "    global lattice\n",
      "    #global T\n",
      "    for __ in range(100):\n",
      "        flipone()\n",
      "    tplot.set_array(lattice[10])\n",
      "    return 0\n",
      "    #plt.title(\"T=\"+str(T)+\" M=\"+str(round(magnetization()/N**2,3)))\n",
      "\n",
      "animacion = animation.FuncAnimation(fig, animate, np.arange(2,100000),interval=1, blit=False)\n",
      "plt.show()"
     ],
     "language": "python",
     "metadata": {},
     "outputs": [],
     "prompt_number": 38
    },
    {
     "cell_type": "code",
     "collapsed": false,
     "input": [],
     "language": "python",
     "metadata": {},
     "outputs": []
    }
   ],
   "metadata": {}
  }
 ]
}