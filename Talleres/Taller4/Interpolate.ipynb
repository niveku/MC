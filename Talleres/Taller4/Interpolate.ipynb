{
 "metadata": {
  "name": "",
  "signature": "sha256:cbfe51db6bf3a846cd68bebef2abfc57dd9c486645fcb6f53650ea2fd65062aa"
 },
 "nbformat": 3,
 "nbformat_minor": 0,
 "worksheets": [
  {
   "cells": [
    {
     "cell_type": "code",
     "collapsed": false,
     "input": [
      "%pylab inline\n",
      "x=linspace(0,2*pi,5)\n",
      "y=sin(x)\n",
      "figure()\n",
      "plot (x,y,\"o\")\n",
      "xlim(-1, 8)\n",
      "ylim(-1.5,1.5)\n",
      "inter = interpolate.splev(xnew, tck, der=0)\n",
      "generar = poly1d (inter)\n",
      "xn = linspace (0,2*pi,50)\n",
      "plot (xn, generar(xn), \"--\", color = \"red\", label = \"linear\")\n",
      "show()"
     ],
     "language": "python",
     "metadata": {},
     "outputs": [
      {
       "output_type": "stream",
       "stream": "stdout",
       "text": [
        "Populating the interactive namespace from numpy and matplotlib\n"
       ]
      },
      {
       "metadata": {},
       "output_type": "display_data",
       "png": "[encoded data removed]",
       "text": [
        "<matplotlib.figure.Figure at 0x7fe7eabbe690>"
       ]
      }
     ],
     "prompt_number": 12
    },
    {
     "cell_type": "code",
     "collapsed": false,
     "input": [],
     "language": "python",
     "metadata": {},
     "outputs": []
    }
   ],
   "metadata": {}
  }
 ]
}