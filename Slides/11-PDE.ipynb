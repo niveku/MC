{
 "metadata": {
  "name": "",
  "signature": "sha256:211e21efd36102cfb80f2bd8452df2b4cf157e80d95d28c03b9b119ac56d23e8"
 },
 "nbformat": 3,
 "nbformat_minor": 0,
 "worksheets": [
  {
   "cells": [
    {
     "cell_type": "markdown",
     "metadata": {},
     "source": [
      "#11 - Ecuaciones en Derivadas Parciales"
     ]
    },
    {
     "cell_type": "code",
     "collapsed": false,
     "input": [
      "import numpy as np\n",
      "import matplotlib as mpl\n",
      "import matplotlib.pyplot as plt\n",
      "import os\n",
      "%matplotlib inline"
     ],
     "language": "python",
     "metadata": {},
     "outputs": [],
     "prompt_number": 1
    },
    {
     "cell_type": "heading",
     "level": 2,
     "metadata": {},
     "source": [
      "La Ecuaci\u00f3n de difusi\u00f3n"
     ]
    },
    {
     "cell_type": "markdown",
     "metadata": {},
     "source": [
      "$$D \\frac{\\partial^2f}{\\partial x^2}=\\frac{\\partial f}{\\partial t}$$\n",
      "\n",
      "La derivada con respecto a $t$ se aproxima con una diferencia futura de acuerdo a:\n",
      "\n",
      "$$\\frac{\\partial f}{\\partial t} \\approx \\frac{f(t+\\Delta t,x)-f(t,x)}{\\Delta t}.$$\n",
      "\n",
      "Y la segunda derivada con respecto a x:\n",
      "\n",
      "$$\n",
      "\\frac{\\partial^2 f}{\\partial x^2} \\approx \\frac{f(t,x+\\Delta x) - 2 f(t,x) + f(t,x-\\Delta x)}{(\\Delta x)^2}\n",
      "$$"
     ]
    },
    {
     "cell_type": "markdown",
     "metadata": {},
     "source": [
      "Se discretiza ahora el espacio en N puntos con espaciamiento $\\Delta{x}$ y el tiempo en M puntos con espaciamiento $\\Delta t$. De tal forma que\n",
      "\n",
      "$$\n",
      "t_{n}=t_\\textrm{min}+\\Delta t\\ \\ n\\geq 0\n",
      "$$\n",
      "\n",
      "$$\n",
      "x_{m} = x_\\textrm{min}+m\\Delta x\\ \\ 0\\leq m\\leq N - 1.\n",
      "$$\n",
      "\n",
      "Y resolviendo para $f(x_m,t_{n+1})$:\n",
      "\n",
      "$$f(t_{n+1},x_m) = f(t_n,x_m) + D \\frac{\\Delta t}{\\Delta x^2}\\left( f(t_n,x_{m+1}) + f(t_n,x_{m-1}) - 2 f(t_n,x_m) \\right)$$\n",
      "\n",
      "con $\\alpha:=D\\frac{\\Delta t}{\\Delta x^2}$ < 1/2 para que el m\u00e9todo sea computacionalmente estable."
     ]
    },
    {
     "cell_type": "heading",
     "level": 3,
     "metadata": {},
     "source": [
      "Condiciones de frontera peri\u00f3dicas"
     ]
    },
    {
     "cell_type": "markdown",
     "metadata": {},
     "source": [
      "Tomar $f(0,x) = \\frac{1}{\\sqrt{2\\pi}}e^{-x^2/2}$, usar condiciones de frontera peri\u00f3dicas, y fijar $D=1$."
     ]
    },
    {
     "cell_type": "code",
     "collapsed": false,
     "input": [
      "N=50 # posici\u00f3n\n",
      "M=1000. # tiempo\n",
      "tmin=0.\n",
      "tmax=2.\n",
      "xmin=-5.\n",
      "xmax=5.\n",
      "Delta_t=(tmax-tmin)/M\n",
      "Delta_x=(xmax-xmin)/N\n",
      "alpha=Delta_t/Delta_x**2\n",
      "Y=np.zeros((M,N)) # Un rengl\u00f3n para cada tiempo\n",
      "# Establecer la condici\u00f3n inicial\n",
      "Y[0]=1./np.sqrt(2*np.pi)*np.exp(-np.linspace(xmin,xmax,N)**2/2)\n",
      "print alpha\n",
      "if alpha>0.5:\n",
      "    print u\"Atenci\u00f3n alpha > 2\"\n",
      "for i in range(1,int(M)):\n",
      "    Y[i] = Y[i-1] + alpha * (np.roll(Y[i-1],1)+np.roll(Y[i-1],-1)-2*Y[i-1])"
     ],
     "language": "python",
     "metadata": {},
     "outputs": [
      {
       "output_type": "stream",
       "stream": "stdout",
       "text": [
        "0.05\n"
       ]
      }
     ],
     "prompt_number": 120
    },
    {
     "cell_type": "code",
     "collapsed": false,
     "input": [
      "timeaxis=np.linspace(tmin,tmax,M)\n",
      "spaceaxis=np.linspace(xmin,xmax,N)\n",
      "plt.figure(figsize=(12,10))\n",
      "plt.pcolor(spaceaxis,timeaxis,Y,cmap='gist_heat')\n",
      "plt.xlabel(\"x\")\n",
      "plt.ylabel(\"t\")\n",
      "plt.xlim(xmin,xmax)\n",
      "plt.colorbar()\n",
      "plt.show()"
     ],
     "language": "python",
     "metadata": {},
     "outputs": [
      {
       "metadata": {},
       "output_type": "display_data",
       "png": "[encoded data removed]",
       "text": [
        "<matplotlib.figure.Figure at 0x107a74e50>"
       ]
      }
     ],
     "prompt_number": 121
    },
    {
     "cell_type": "code",
     "collapsed": false,
     "input": [
      "# Explorar la forma en la que aumenta la desviaci\u00f3n est\u00e1ndard\n",
      "desviaciones=np.apply_along_axis(lambda x: sum(spaceaxis**2*x),1,Y)\n",
      "plt.figure(figsize=(10,5))\n",
      "plt.plot(timeaxis,desviaciones)\n",
      "plt.xlabel(\"t\")\n",
      "plt.ylabel(\"$\\sigma^2$\")\n",
      "plt.show()"
     ],
     "language": "python",
     "metadata": {},
     "outputs": [
      {
       "metadata": {},
       "output_type": "display_data",
       "png": "[encoded data removed]",
       "text": [
        "<matplotlib.figure.Figure at 0x107a732d0>"
       ]
      }
     ],
     "prompt_number": 122
    },
    {
     "cell_type": "heading",
     "level": 3,
     "metadata": {},
     "source": [
      "Extremos absorventes"
     ]
    },
    {
     "cell_type": "markdown",
     "metadata": {},
     "source": [
      "Resolvamos ahora la ecuaci\u00f3n con $f(0,x) = 1/\\sqrt{2\\pi}e^{-x^2/2}$, usando condiciones de Dirichlet con $f(t,x_{\\textrm{min}})=f(t,x_\\textrm{max})=0$."
     ]
    },
    {
     "cell_type": "code",
     "collapsed": false,
     "input": [
      "N=50 # posici\u00f3n\n",
      "M=1000. # tiempo\n",
      "tmin=0.\n",
      "tmax=2.\n",
      "xmin=-5.\n",
      "xmax=5.\n",
      "Delta_t=(tmax-tmin)/(M-1)\n",
      "Delta_x=(xmax-xmin)/(N-1)\n",
      "alpha=Delta_t/Delta_x**2\n",
      "Y=np.zeros((M,N)) # Un rengl\u00f3n para cada tiempo\n",
      "# Establecer la condici\u00f3n inicial\n",
      "Y[0]=1./np.sqrt(2*np.pi)*np.exp(-np.linspace(xmin,xmax,N)**2/2)\n",
      "# Fijar las condiciones de frontera\n",
      "Y[0,0]=0\n",
      "Y[0,-1]=0\n",
      "print alpha\n",
      "if alpha>0.5:\n",
      "    print u\"Atenci\u00f3n alpha > 2\"\n",
      "for i in range(1,int(M)):\n",
      "    Y[i] = Y[i-1] + alpha * (np.roll(Y[i-1],1)+np.roll(Y[i-1],-1)-2*Y[i-1])\n",
      "    Y[i,0]=0\n",
      "    Y[i,-1]=0"
     ],
     "language": "python",
     "metadata": {},
     "outputs": [
      {
       "output_type": "stream",
       "stream": "stdout",
       "text": [
        "0.0480680680681\n"
       ]
      }
     ],
     "prompt_number": 126
    },
    {
     "cell_type": "code",
     "collapsed": false,
     "input": [
      "timeaxis=np.linspace(tmin,tmax,M)\n",
      "spaceaxis=np.linspace(xmin,xmax,N)\n",
      "plt.figure(figsize=(12,10))\n",
      "plt.pcolor(spaceaxis,timeaxis,Y,cmap='gist_heat')\n",
      "plt.colorbar()\n",
      "plt.xlabel(\"x\")\n",
      "plt.ylabel(\"t\")\n",
      "plt.xlim(xmin,xmax)\n",
      "plt.show()"
     ],
     "language": "python",
     "metadata": {},
     "outputs": [
      {
       "metadata": {},
       "output_type": "display_data",
       "png": "[encoded data removed]",
       "text": [
        "<matplotlib.figure.Figure at 0x107ded550>"
       ]
      }
     ],
     "prompt_number": 129
    },
    {
     "cell_type": "code",
     "collapsed": false,
     "input": [
      "cantidad_total=np.apply_along_axis(sum,1,Y)\n",
      "cantidad_total=cantidad_total/max(cantidad_total) # normalizar con respecto al m\u00e1ximo\n",
      "plt.figure(figsize=(10,5))\n",
      "plt.plot(timeaxis,cantidad_total)\n",
      "plt.xlabel(\"t\")\n",
      "plt.ylabel(\"S\")\n",
      "plt.show()"
     ],
     "language": "python",
     "metadata": {},
     "outputs": [
      {
       "metadata": {},
       "output_type": "display_data",
       "png": "[encoded data removed]",
       "text": [
        "<matplotlib.figure.Figure at 0x107e4ac10>"
       ]
      }
     ],
     "prompt_number": 128
    },
    {
     "cell_type": "heading",
     "level": 2,
     "metadata": {},
     "source": [
      "La Ecuaci\u00f3n de Onda 1D"
     ]
    },
    {
     "cell_type": "markdown",
     "metadata": {},
     "source": [
      "$\\frac{\\partial^2 \\psi}{\\partial x^2} = \\frac{1}{v^2} \\frac{\\partial^2 \\psi}{\\partial t^2}$"
     ]
    },
    {
     "cell_type": "heading",
     "level": 3,
     "metadata": {},
     "source": [
      "Condiciones de frontera peri\u00f3dicas"
     ]
    },
    {
     "cell_type": "code",
     "collapsed": false,
     "input": [
      "tmin=0\n",
      "tmax=.003105882\n",
      "xmin=-0.33  # en metros\n",
      "xmax=0.33   # en metros\n",
      "Nt=1000\n",
      "Nl=100\n",
      "dt=(tmax-tmin)/Nt\n",
      "dx=(xmax-xmin)/Nl\n",
      "v=425. # m/s\n",
      "r=v*dt/dx\n",
      "print \"r=\",r"
     ],
     "language": "python",
     "metadata": {},
     "outputs": [
      {
       "output_type": "stream",
       "stream": "stdout",
       "text": [
        "r= 0.199999977273\n"
       ]
      }
     ],
     "prompt_number": 90
    },
    {
     "cell_type": "code",
     "collapsed": false,
     "input": [
      "#condiciones de frontera peri\u00f3dicas\n",
      "xcoords=np.linspace(xmin,xmax,Nl)\n",
      "tcoords=np.linspace(tmin,tmax,Nt)\n",
      "chord=np.zeros((Nt,Nl))\n",
      "# fijar la condici\u00f3n inicial\n",
      "chord[0]=np.exp(-xcoords**2/(2*0.1**2))\n",
      "chord[1]=chord[0]+r**2/2.*(np.roll(chord[0],1)+np.roll(chord[0],-1)-2*chord[0])\n",
      "plt.figure(figsize=(10,3))\n",
      "plt.plot(xcoords,chord[0])\n",
      "plt.plot(xcoords,chord[1])\n",
      "plt.show()\n",
      "for i in range(2,Nt):\n",
      "    ppchord=chord[i-2]\n",
      "    pchord=chord[i-1]\n",
      "    chord[i]=2*(1-r**2)*pchord-ppchord+r**2*(np.roll(pchord,1)+np.roll(pchord,-1))\n",
      "plt.figure(figsize=(10,10))\n",
      "plt.pcolor(xcoords,tcoords,chord,cmap='gist_heat')\n",
      "plt.xlim(xmin,xmax)\n",
      "plt.ylim(tmin,tmax)\n",
      "plt.show()"
     ],
     "language": "python",
     "metadata": {},
     "outputs": [],
     "prompt_number": 91
    },
    {
     "cell_type": "heading",
     "level": 3,
     "metadata": {},
     "source": [
      "Extremos fijos"
     ]
    },
    {
     "cell_type": "code",
     "collapsed": false,
     "input": [
      "tmin=0\n",
      "tmax=.003105882\n",
      "xmin=-0.33  # en metros\n",
      "xmax=0.33   # en metros\n",
      "Nt=1000\n",
      "Nl=100\n",
      "dt=(tmax-tmin)/Nt\n",
      "dx=(xmax-xmin)/Nl\n",
      "v=425. # m/s\n",
      "r=v*dt/dx\n",
      "print \"r=\",r"
     ],
     "language": "python",
     "metadata": {},
     "outputs": [
      {
       "output_type": "stream",
       "stream": "stdout",
       "text": [
        "r= 0.199999977273\n"
       ]
      }
     ],
     "prompt_number": 92
    },
    {
     "cell_type": "code",
     "collapsed": false,
     "input": [
      "#fija en los extremos\n",
      "xcoords=np.linspace(xmin,xmax,Nl)\n",
      "tcoords=np.linspace(tmin,tmax,Nt)\n",
      "chord=np.zeros((Nt,Nl))\n",
      "# fijar la condici\u00f3n inicial\n",
      "std=0.05\n",
      "chord[0]=0.01*np.exp(-xcoords**2/(2*std**2))\n",
      "chord[0,0]=0\n",
      "chord[0,-1]=0\n",
      "chord[1]=chord[0]+r**2/2.*(np.roll(chord[0],1)+np.roll(chord[0],-1)-2*chord[0])\n",
      "plt.figure(figsize=(10,3))\n",
      "plt.plot(xcoords,chord[0])\n",
      "plt.show()\n",
      "for i in range(2,Nt):\n",
      "    ppchord=chord[i-2]\n",
      "    pchord=chord[i-1]\n",
      "    chord[i]=2*(1-r**2)*pchord-ppchord+r**2*(np.roll(pchord,1)+np.roll(pchord,-1))\n",
      "    chord[i,0]=0\n",
      "    chord[i,-1]=0\n",
      "plt.figure(figsize=(10,10))\n",
      "plt.pcolor(xcoords,tcoords,chord,cmap='gist_heat')\n",
      "plt.xlim(xmin,xmax)\n",
      "plt.ylim(tmin,tmax)\n",
      "plt.show()"
     ],
     "language": "python",
     "metadata": {},
     "outputs": [],
     "prompt_number": 93
    },
    {
     "cell_type": "code",
     "collapsed": false,
     "input": [
      "%matplotlib osx\n",
      "from matplotlib import animation\n",
      "\n",
      "fig=plt.figure(figsize=(12,1))\n",
      "ax = fig.add_subplot(111, autoscale_on=False)\n",
      "chordplot,=ax.plot([],[],\"o\",ms=2)\n",
      "plt.xlim(xmin,xmax)\n",
      "plt.ylim(-0.01,0.01)\n",
      "\n",
      "time_template = 't = %.2f'\n",
      "time_text = ax.text(0.5, 0.8, 'nada',transform=ax.transAxes)\n",
      "\n",
      "def animate(i):\n",
      "    chordplot.set_data(xcoords,chord[3*i])\n",
      "    time_text.set_text(time_template%(i*dt*1000)+\"ms\")\n",
      "    return chordplot,time_text\n",
      "\n",
      "animacion = animation.FuncAnimation(fig, animate, np.arange(1,len(chord)/3),interval=1, blit=False)\n",
      "plt.show()"
     ],
     "language": "python",
     "metadata": {},
     "outputs": [],
     "prompt_number": 94
    },
    {
     "cell_type": "heading",
     "level": 2,
     "metadata": {},
     "source": [
      "La Ecuaci\u00f3n de Onda 2D"
     ]
    },
    {
     "cell_type": "markdown",
     "metadata": {},
     "source": [
      "$\\frac{\\partial^2 \\psi}{\\partial x^2} + \\frac{\\partial^2 \\psi}{\\partial y^2} = \\frac{1}{v^2} \\frac{\\partial^2 \\psi}{\\partial t^2}$"
     ]
    },
    {
     "cell_type": "heading",
     "level": 3,
     "metadata": {},
     "source": [
      "Condiciones de frontera peri\u00f3dicas"
     ]
    },
    {
     "cell_type": "code",
     "collapsed": false,
     "input": [
      "tmin=0\n",
      "tmax=.3105882/2.\n",
      "xmin=-0.33  # en metros\n",
      "xmax=0.33   # en metros\n",
      "ymin=-0.33\n",
      "ymax=0.33\n",
      "Nt=6000\n",
      "Nl=30\n",
      "dt=(tmax-tmin)/Nt\n",
      "dx=(xmax-xmin)/Nl\n",
      "dy=(ymax-ymin)/Nl\n",
      "v=425. # m/s\n",
      "r=v*dt/dx\n",
      "print \"r=\",r"
     ],
     "language": "python",
     "metadata": {},
     "outputs": [
      {
       "output_type": "stream",
       "stream": "stdout",
       "text": [
        "r= 0.499999943182\n"
       ]
      }
     ],
     "prompt_number": 95
    },
    {
     "cell_type": "code",
     "collapsed": false,
     "input": [
      "#condiciones de frontera peri\u00f3dicas\n",
      "xcoords=np.linspace(xmin,xmax,Nl)\n",
      "ycoords=np.linspace(ymin,ymax,Nl)\n",
      "xmesh,ymesh=np.meshgrid(xcoords,ycoords)\n",
      "tcoords=np.linspace(tmin,tmax,Nt)\n",
      "drum=np.zeros((Nt,Nl,Nl))\n",
      "# fijar la condici\u00f3n inicial\n",
      "stdev=0.1\n",
      "drum[0]=np.exp(-xmesh**2/(2*stdev**2))*np.exp(-ymesh**2/(2*stdev**2))\n",
      "drum[1]=drum[0]+r**2/2.*(np.roll(drum[0],1,axis=0)+np.roll(drum[0],-1,axis=0)+np.roll(drum[0],1,axis=1)+np.roll(drum[0],-1,axis=1)-4*drum[0])\n",
      "# Mostrar la condici\u00f3n inicial\n",
      "plt.figure(figsize=(10,3))\n",
      "plt.imshow(drum[0],cmap='gist_heat')\n",
      "plt.show()"
     ],
     "language": "python",
     "metadata": {},
     "outputs": [],
     "prompt_number": 96
    },
    {
     "cell_type": "code",
     "collapsed": false,
     "input": [
      "for i in range(2,Nt):\n",
      "    pdrum=drum[i-1]\n",
      "    ppdrum=drum[i-2]\n",
      "    drum[i]=2*(1.-2.*r**2)*pdrum-ppdrum+r**2*(np.roll(pdrum,1,axis=1)+np.roll(pdrum,-1,axis=1)+np.roll(pdrum,1,axis=0)+np.roll(pdrum,-1,axis=0))"
     ],
     "language": "python",
     "metadata": {},
     "outputs": [],
     "prompt_number": 97
    },
    {
     "cell_type": "code",
     "collapsed": false,
     "input": [
      "# Animaci\u00f3n\n",
      "%matplotlib osx\n",
      "from matplotlib import animation\n",
      "# Placa fr\u00eda con borde caliente\n",
      "\n",
      "fig=plt.figure(figsize=(10,10))\n",
      "plt.hold(True)\n",
      "plt.pcolor(xcoords,ycoords,drum[0],cmap='gist_heat',vmin=0.,vmax=1.)\n",
      "plt.xlim(xmin+dx,xmax-dx)\n",
      "plt.ylim(ymin+dy,ymax-dy)\n",
      "#plt.colorbar()\n",
      "\n",
      "def animate(i):\n",
      "    plt.pcolor(xcoords,ycoords,drum[i],cmap='gist_heat',vmin=0.,vmax=1.)\n",
      "    plt.xlim(xmin+dx,xmax-dx)\n",
      "    plt.ylim(ymin+dy,ymax-dy)\n",
      "animacion = animation.FuncAnimation(fig, animate, np.arange(1,len(drum)),interval=20, blit=False)\n",
      "plt.show()\n",
      "plt.hold(False)"
     ],
     "language": "python",
     "metadata": {},
     "outputs": [],
     "prompt_number": 98
    },
    {
     "cell_type": "heading",
     "level": 3,
     "metadata": {},
     "source": [
      "Extremos fijos"
     ]
    },
    {
     "cell_type": "code",
     "collapsed": false,
     "input": [
      "#extremos fijos\n",
      "xcoords=np.linspace(xmin,xmax,Nl)\n",
      "ycoords=np.linspace(ymin,ymax,Nl)\n",
      "xmesh,ymesh=np.meshgrid(xcoords,ycoords)\n",
      "tcoords=np.linspace(tmin,tmax,Nt)\n",
      "drum=np.zeros((Nt,Nl,Nl))\n",
      "# fijar la condici\u00f3n inicial\n",
      "stdev=0.1\n",
      "drum[0]=np.exp(-xmesh**2/(2*stdev**2))*np.exp(-ymesh**2/(2*stdev**2))\n",
      "drum[1]=drum[0]+r**2/2.*(np.roll(drum[0],1,axis=0)+np.roll(drum[0],-1,axis=0)+np.roll(drum[0],1,axis=1)+np.roll(drum[0],-1,axis=1)-4*drum[0])\n",
      "drum[0,0]=0\n",
      "drum[0,-1]=0\n",
      "drum[1,:,0]=0\n",
      "drum[1,:,-1]=0\n",
      "# Mostrar la condici\u00f3n inicial\n",
      "#plt.figure(figsize=(10,3))\n",
      "#plt.imshow(drum[0],cmap='gist_heat')\n",
      "#plt.show()"
     ],
     "language": "python",
     "metadata": {},
     "outputs": [],
     "prompt_number": 99
    },
    {
     "cell_type": "code",
     "collapsed": false,
     "input": [
      "for i in range(2,Nt):\n",
      "    pdrum=drum[i-1]\n",
      "    ppdrum=drum[i-2]\n",
      "    drum[i]=2*(1.-2.*r**2)*pdrum-ppdrum+r**2*(np.roll(pdrum,1,axis=1)+np.roll(pdrum,-1,axis=1)+np.roll(pdrum,1,axis=0)+np.roll(pdrum,-1,axis=0))\n",
      "    drum[i,0]=0\n",
      "    drum[i,-1]=0\n",
      "    drum[i,:,0]=0\n",
      "    drum[i,:,-1]=0"
     ],
     "language": "python",
     "metadata": {},
     "outputs": [],
     "prompt_number": 100
    },
    {
     "cell_type": "code",
     "collapsed": false,
     "input": [
      "# Animaci\u00f3n\n",
      "%matplotlib osx\n",
      "from matplotlib import animation\n",
      "# Placa fr\u00eda con borde caliente\n",
      "\n",
      "fig=plt.figure(figsize=(10,10))\n",
      "plt.hold(True)\n",
      "plt.pcolor(xcoords,ycoords,np.abs(drum[0]),cmap='gist_heat',vmin=0.,vmax=1.)\n",
      "plt.xlim(xmin+dx,xmax-dx)\n",
      "plt.ylim(ymin+dy,ymax-dy)\n",
      "#plt.colorbar()\n",
      "\n",
      "def animate(i):\n",
      "    plt.pcolor(xcoords,ycoords,np.abs(drum[i]),cmap='gist_heat',vmin=0.,vmax=1.)\n",
      "    plt.xlim(xmin+dx,xmax-dx)\n",
      "    plt.ylim(ymin+dy,ymax-dy)\n",
      "animacion = animation.FuncAnimation(fig, animate, np.arange(1,len(drum)),interval=20, blit=False)\n",
      "plt.show()\n",
      "plt.hold(False)"
     ],
     "language": "python",
     "metadata": {},
     "outputs": [],
     "prompt_number": 101
    },
    {
     "cell_type": "heading",
     "level": 2,
     "metadata": {},
     "source": [
      "Ecuaci\u00f3n de Laplace 2D"
     ]
    },
    {
     "cell_type": "markdown",
     "metadata": {},
     "source": [
      "$\\frac{\\partial^2 \\psi}{\\partial x^2} + \\frac{\\partial^2 \\psi}{\\partial y^2} = 0$"
     ]
    },
    {
     "cell_type": "code",
     "collapsed": false,
     "input": [
      "xmin=-0.05\n",
      "xmax=0.05\n",
      "ymin=-0.05\n",
      "ymax=0.05\n",
      "N=100\n",
      "xcoords=np.linspace(xmin,xmax,N)\n",
      "ycoords=np.linspace(ymin,ymax,N)\n",
      "placa=np.zeros((N,N))\n",
      "numiter=10000\n",
      "for __ in range(numiter):\n",
      "    placa=1/4.*(np.roll(placa,1,axis=0)+np.roll(placa,1,axis=1)+np.roll(placa,-1,axis=0)+np.roll(placa,-1,axis=1))\n",
      "    placa[0]=0.\n",
      "    placa[-1]=0\n",
      "    placa[:,0]=10.\n",
      "    placa[:,-1]=0."
     ],
     "language": "python",
     "metadata": {},
     "outputs": [],
     "prompt_number": 11
    },
    {
     "cell_type": "code",
     "collapsed": false,
     "input": [
      "plt.figure()\n",
      "plt.imshow(placa,cmap='gist_heat')\n",
      "plt.show()"
     ],
     "language": "python",
     "metadata": {},
     "outputs": [
      {
       "metadata": {},
       "output_type": "display_data",
       "png": "[encoded data removed]",
       "text": [
        "<matplotlib.figure.Figure at 0x106321e10>"
       ]
      }
     ],
     "prompt_number": 10
    },
    {
     "cell_type": "code",
     "collapsed": false,
     "input": [
      "plt.figure()\n",
      "plt.imshow(placa,cmap='gist_heat')\n",
      "plt.show()"
     ],
     "language": "python",
     "metadata": {},
     "outputs": [
      {
       "metadata": {},
       "output_type": "display_data",
       "png": "[encoded data removed]",
       "text": [
        "<matplotlib.figure.Figure at 0x106a134d0>"
       ]
      }
     ],
     "prompt_number": 12
    },
    {
     "cell_type": "heading",
     "level": 2,
     "metadata": {},
     "source": [
      "M\u00e9todo de Relajaci\u00f3n para Resolver Ecuaciones"
     ]
    },
    {
     "cell_type": "markdown",
     "metadata": {},
     "source": [
      "$\\cos{x}-x=0.5$"
     ]
    },
    {
     "cell_type": "code",
     "collapsed": false,
     "input": [
      "guess=[]\n",
      "x=0.1\n",
      "for i in range(20):\n",
      "    x=np.cos(x)-0.5\n",
      "    guess.append(x)"
     ],
     "language": "python",
     "metadata": {},
     "outputs": [],
     "prompt_number": 2
    },
    {
     "cell_type": "code",
     "collapsed": false,
     "input": [
      "plt.figure()\n",
      "plt.plot(guess,\"o--\")\n",
      "plt.show()"
     ],
     "language": "python",
     "metadata": {},
     "outputs": [
      {
       "metadata": {},
       "output_type": "display_data",
       "png": "[encoded data removed]",
       "text": [
        "<matplotlib.figure.Figure at 0x1060a4150>"
       ]
      }
     ],
     "prompt_number": 3
    },
    {
     "cell_type": "markdown",
     "metadata": {},
     "source": [
      "$(A+I)\\vec{x}=\\vec{b}$"
     ]
    },
    {
     "cell_type": "code",
     "collapsed": false,
     "input": [
      "A=np.matrix([[0.,0.9],[-0.9,0.]])\n",
      "b=np.matrix([[1.],[2.]])\n",
      "sol=np.matrix([[-80./181],[290./181.]])\n",
      "idmat=np.matrix([[1.,0],[0,1.]])\n",
      "print A\n",
      "print b"
     ],
     "language": "python",
     "metadata": {},
     "outputs": [
      {
       "output_type": "stream",
       "stream": "stdout",
       "text": [
        "[[ 0.   0.9]\n",
        " [-0.9  0. ]]\n",
        "[[ 1.]\n",
        " [ 2.]]\n"
       ]
      }
     ],
     "prompt_number": 4
    },
    {
     "cell_type": "code",
     "collapsed": false,
     "input": [
      "x=np.matrix([[-1.],[0.5]])\n",
      "guesses=[[float(x[0]),float(x[1])]]\n",
      "for i in range(100):\n",
      "    x=b-A*x\n",
      "    guesses.append([float(x[0]),float(x[1])])\n",
      "aguesses=np.array(guesses)"
     ],
     "language": "python",
     "metadata": {},
     "outputs": [],
     "prompt_number": 5
    },
    {
     "cell_type": "code",
     "collapsed": false,
     "input": [
      "x"
     ],
     "language": "python",
     "metadata": {},
     "outputs": [
      {
       "metadata": {},
       "output_type": "pyout",
       "prompt_number": 109,
       "text": [
        "matrix([[-0.44200377],\n",
        "        [ 1.60218067]])"
       ]
      }
     ],
     "prompt_number": 109
    },
    {
     "cell_type": "code",
     "collapsed": false,
     "input": [
      "%matplotlib inline\n",
      "plt.figure(figsize=(10,6))\n",
      "plt.plot(aguesses[:,0],\"ok\",ms=3,label=r\"$x_1$\")\n",
      "plt.plot(aguesses[:,1],\"or\",ms=3,label=r\"$x_2$\")\n",
      "plt.xlabel(u\"iteraci\u00f3n\")\n",
      "plt.ylim(-1,2.5)\n",
      "plt.legend()\n",
      "plt.show()"
     ],
     "language": "python",
     "metadata": {},
     "outputs": [
      {
       "metadata": {},
       "output_type": "display_data",
       "png": "[encoded data removed]",
       "text": [
        "<matplotlib.figure.Figure at 0x10625ac10>"
       ]
      }
     ],
     "prompt_number": 7
    },
    {
     "cell_type": "code",
     "collapsed": false,
     "input": [],
     "language": "python",
     "metadata": {},
     "outputs": []
    }
   ],
   "metadata": {}
  }
 ]
}