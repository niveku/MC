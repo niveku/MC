{
 "metadata": {
  "name": "",
  "signature": "sha256:30be2a2fc9ab5b213319a6fe3bde44063da89fb9a34567920c69c7ee07e85b55"
 },
 "nbformat": 3,
 "nbformat_minor": 0,
 "worksheets": [
  {
   "cells": [
    {
     "cell_type": "code",
     "collapsed": false,
     "input": [
      "from sympy import * \n",
      "init_printing(use_unicode=True)\n",
      "print \"Hola\""
     ],
     "language": "python",
     "metadata": {},
     "outputs": [],
     "prompt_number": 9
    },
    {
     "cell_type": "code",
     "collapsed": false,
     "input": [
      "x=symbols('x')\n",
      "sympy.diff(x**2,x)"
     ],
     "language": "python",
     "metadata": {},
     "outputs": [],
     "prompt_number": 10
    },
    {
     "cell_type": "code",
     "collapsed": false,
     "input": [],
     "language": "python",
     "metadata": {},
     "outputs": []
    }
   ],
   "metadata": {}
  }
 ]
}