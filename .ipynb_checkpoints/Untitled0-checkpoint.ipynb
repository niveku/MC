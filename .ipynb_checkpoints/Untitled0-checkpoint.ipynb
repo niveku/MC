{
 "metadata": {
  "name": "",
  "signature": "sha256:57829d30ecaaa77d78a322a8a822a48f53afc1b6499941ecbe8dc97788f5af1d"
 },
 "nbformat": 3,
 "nbformat_minor": 0,
 "worksheets": [
  {
   "cells": [
    {
     "cell_type": "code",
     "collapsed": false,
     "input": [
      "%pylab inline\n",
      "Nt=2000\n",
      "Nl=50\n",
      "L=10. # Lado del cubo\n",
      "tmin=0\n",
      "tmax=.3\n",
      "xmin=-L/2\n",
      "xmax=L/2\n",
      "ymin=-L/2\n",
      "ymax=L/2\n",
      "dt=(tmax-tmin)/Nt\n",
      "dx=(xmax-xmin)/Nl\n",
      "v=425. # m/s\n",
      "r=v*dt/dx\n",
      "xcoords=np.linspace(xmin,xmax,Nl)\n",
      "ycoords=np.linspace(xmin,xmax,Nl)\n",
      "xmesh,ymesh=np.meshgrid(xcoords,ycoords)\n",
      "tcoords=np.linspace(tmin,tmax,Nt)\n",
      "cara1=np.zeros((Nt,Nl,Nl))\n",
      "cara2=np.zeros((Nt,Nl,Nl))\n",
      "cara3=np.zeros((Nt,Nl,Nl))\n",
      "cara4=np.zeros((Nt,Nl,Nl))\n",
      "cara5=np.zeros((Nt,Nl,Nl))\n",
      "cara6=np.zeros((Nt,Nl,Nl))\n",
      "cara1[0] = np.exp(-xmesh**2)*np.exp(-ymesh**2)\n",
      "cara2[0] = 0.\n",
      "cara3[0] = np.exp(-xmesh**2)*np.exp(-ymesh**2)\n",
      "cara4[0] = 0.\n",
      "cara5[0] = 0.\n",
      "cara6[0] = 0.\n",
      "for i in range(2,Nt):\n",
      "    pdrum1=cara1[i-1]\n",
      "    ppdrum1=cara1[i-2]\n",
      "    cara1[i]=2*(1.-2.*r**2)*pdrum1-ppdrum1+r**2*(np.roll(pdrum1,1,axis=1)+np.roll(pdrum1,-1,axis=1)+np.roll(pdrum1,1,axis=0)+np.roll(pdrum1,-1,axis=0))\n",
      "    pdrum3=cara3[i-1]\n",
      "    ppdrum3=cara3[i-2]\n",
      "    cara3[i]=2*(1.-2.*r**2)*pdrum3-ppdrum3+r**2*(np.roll(pdrum3,1,axis=1)+np.roll(pdrum3,-1,axis=1)+np.roll(pdrum3,1,axis=0)+np.roll(pdrum3,-1,axis=0))\n",
      "    \n",
      "    cara2[i,1,:]=cara1[i-1,-1,:]\n",
      "    cara2[i,-1,:]=cara3[i-1,1,:]\n",
      "    pdrum2=cara2[i-1]\n",
      "    ppdrum2=cara2[i-2]\n",
      "    cara2[i]=2*(1.-2.*r**2)*pdrum2-ppdrum2+r**2*(np.roll(pdrum2,1,axis=1)+np.roll(pdrum2,-1,axis=1)+np.roll(pdrum2,1,axis=0)+np.roll(pdrum2,-1,axis=0))\n",
      "    \n",
      "    pdrum4=cara4[i-1]\n",
      "    ppdrum4=cara4[i-2]\n",
      "    cara4[i]=2*(1.-2.*r**2)*pdrum4-ppdrum4+r**2*(np.roll(pdrum4,1,axis=1)+np.roll(pdrum4,-1,axis=1)+np.roll(pdrum4,1,axis=0)+np.roll(pdrum4,-1,axis=0))\n",
      "    pdrum5=cara5[i-1]\n",
      "    ppdrum5=cara5[i-2]\n",
      "    cara5[i]=2*(1.-2.*r**2)*pdrum5-ppdrum5+r**2*(np.roll(pdrum5,1,axis=1)+np.roll(pdrum5,-1,axis=1)+np.roll(pdrum5,1,axis=0)+np.roll(pdrum5,-1,axis=0))\n",
      "    pdrum6=cara6[i-1]\n",
      "    ppdrum6=cara6[i-2]\n",
      "    cara6[i]=2*(1.-2.*r**2)*pdrum6-ppdrum6+r**2*(np.roll(pdrum6,1,axis=1)+np.roll(pdrum6,-1,axis=1)+np.roll(pdrum6,1,axis=0)+np.roll(pdrum6,-1,axis=0))\n",
      "principal= np.zeros((Nt,4*Nl,3*Nl))\n",
      "figure(figsize=(5,5))\n",
      "imshow(cara2[-1],cmap='gist_heat')\n",
      "colorbar()\n",
      "show()"
     ],
     "language": "python",
     "metadata": {},
     "outputs": [
      {
       "output_type": "stream",
       "stream": "stdout",
       "text": [
        "Populating the interactive namespace from numpy and matplotlib\n"
       ]
      },
      {
       "output_type": "stream",
       "stream": "stderr",
       "text": [
        "/usr/lib64/python2.7/site-packages/matplotlib/colorbar.py:829: RuntimeWarning: invalid value encountered in divide\n",
        "  z = np.take(y, i0) + (xn - np.take(b, i0)) * dy / db\n",
        "/usr/lib64/python2.7/site-packages/matplotlib/colorbar.py:581: RuntimeWarning: invalid value encountered in greater\n",
        "  inrange = (ticks > -0.001) & (ticks < 1.001)\n",
        "/usr/lib64/python2.7/site-packages/matplotlib/colorbar.py:581: RuntimeWarning: invalid value encountered in less\n",
        "  inrange = (ticks > -0.001) & (ticks < 1.001)\n"
       ]
      },
      {
       "metadata": {},
       "output_type": "display_data",
       "png": "[encoded data removed]",
       "text": [
        "<matplotlib.figure.Figure at 0x243fc50>"
       ]
      }
     ],
     "prompt_number": 1
    },
    {
     "cell_type": "code",
     "collapsed": false,
     "input": [
      "grande=ones((3*Nl,4*Nl))*-57\n",
      "\n",
      "def actualizar (i):\n",
      "    grande[Nl:2*Nl,0:Nl]=cara1[i,:,:]\n",
      "    grande[Nl:2*Nl,Nl:2*Nl]=cara2[i,:,:]\n",
      "    grande[Nl:2*Nl,2*Nl:3*Nl]=cara3[i,:,:]\n",
      "    grande[Nl:2*Nl,3*Nl:4*Nl]=cara4[i,:,:]\n",
      "    grande[0:Nl,2*Nl:3*Nl]=cara5[i,:,:]\n",
      "    grande[2*Nl:3*Nl,2*Nl:3*Nl]=cara6[i,:,:]\n",
      "\n",
      "actualizar(150)\n",
      "figure(figsize=(5,5))\n",
      "imshow(grande,cmap='gist_heat')\n",
      "show()"
     ],
     "language": "python",
     "metadata": {},
     "outputs": [
      {
       "metadata": {},
       "output_type": "display_data",
       "png": "[encoded data removed]",
       "text": [
        "<matplotlib.figure.Figure at 0x3475e50>"
       ]
      }
     ],
     "prompt_number": 2
    },
    {
     "cell_type": "code",
     "collapsed": false,
     "input": [
      "%matplotlib inline\n",
      "import numpy as np\n",
      "import matplotlib.pyplot as plt\n",
      "from matplotlib import animation\n",
      "\n",
      "fig = plt.figure()\n",
      "ax = fig.add_subplot(1,1,1)\n",
      "\n",
      "def animate(i):\n",
      "    actualizar(i)\n",
      "    ax.imshow(grande,cmap='gist_heat')\n",
      "       \n",
      "animacion = animation.FuncAnimation(fig, animate, frames=100 ,interval=1, blit=True)\n",
      "animacion.save(\"algo.gif\", writer='imagemagick', fps=4 )\n",
      "show()"
     ],
     "language": "python",
     "metadata": {},
     "outputs": [
      {
       "metadata": {},
       "output_type": "display_data",
       "png": "[encoded data removed]",
       "text": [
        "<matplotlib.figure.Figure at 0x3460650>"
       ]
      }
     ],
     "prompt_number": 17
    },
    {
     "cell_type": "code",
     "collapsed": false,
     "input": [
      "import numpy as np\n",
      "from numpy.linalg import norm\n",
      "import matplotlib.pyplot as plt\n",
      "from matplotlib import animation\n",
      "%matplotlib tk\n",
      "\n",
      "fig = plt.figure()\n",
      "ax = fig.add_subplot(1,1,1)\n",
      "ax.set_aspect('equal')\n",
      "\n",
      "ims=[]\n",
      "for i in range(1,1000):\n",
      "    \n",
      "    actualizar(i)\n",
      "    im1 = ax.imshow(grande,cmap='gist_heat')\n",
      "    ims.append([im1])\n",
      "    \n",
      "animado = animation.ArtistAnimation(fig, ims ,interval=80, blit=True)\n",
      "plt.show()"
     ],
     "language": "python",
     "metadata": {},
     "outputs": [],
     "prompt_number": 11
    },
    {
     "cell_type": "code",
     "collapsed": false,
     "input": [
      "print 9000000*8/1024"
     ],
     "language": "python",
     "metadata": {},
     "outputs": [
      {
       "output_type": "stream",
       "stream": "stdout",
       "text": [
        "70312\n"
       ]
      }
     ],
     "prompt_number": 19
    },
    {
     "cell_type": "code",
     "collapsed": false,
     "input": [],
     "language": "python",
     "metadata": {},
     "outputs": []
    }
   ],
   "metadata": {}
  }
 ]
}