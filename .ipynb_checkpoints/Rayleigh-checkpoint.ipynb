{
 "metadata": {
  "name": "",
  "signature": "sha256:ce0ca5c3f5275e079f52a939784bb45d5ee17ef0b959e8b4da919ac5430d5fb6"
 },
 "nbformat": 3,
 "nbformat_minor": 0,
 "worksheets": [
  {
   "cells": [
    {
     "cell_type": "code",
     "collapsed": false,
     "input": [
      "import os.path\n",
      "archivo = genfromtxt(os.path.expanduser(\"~/MC/Experimentos/Exp1/Rayleigh.csv\"),delimiter=\",\")\n",
      "x=archivo[:,0]\n",
      "y=archivo[:,1]"
     ],
     "language": "python",
     "metadata": {},
     "outputs": [],
     "prompt_number": 4
    },
    {
     "cell_type": "code",
     "collapsed": false,
     "input": [
      "%pylab inline\n"
     ],
     "language": "python",
     "metadata": {},
     "outputs": [],
     "prompt_number": 8
    },
    {
     "cell_type": "code",
     "collapsed": false,
     "input": [],
     "language": "python",
     "metadata": {},
     "outputs": [
      {
       "output_type": "stream",
       "stream": "stdout",
       "text": [
        "2\n"
       ]
      }
     ],
     "prompt_number": 9
    },
    {
     "cell_type": "code",
     "collapsed": false,
     "input": [],
     "language": "python",
     "metadata": {},
     "outputs": []
    }
   ],
   "metadata": {}
  }
 ]
}