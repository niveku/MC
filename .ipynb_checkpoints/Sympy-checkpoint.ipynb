{
 "metadata": {
  "name": "",
  "signature": "sha256:87640b1592bb1ae5ec284a85df87dd3d04c002d907cd26f883e49c74c85ea451"
 },
 "nbformat": 3,
 "nbformat_minor": 0,
 "worksheets": [
  {
   "cells": [
    {
     "cell_type": "code",
     "collapsed": false,
     "input": [
      "import sympy"
     ],
     "language": "python",
     "metadata": {},
     "outputs": []
    }
   ],
   "metadata": {}
  }
 ]
}