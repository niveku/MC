{
 "metadata": {
  "name": "",
  "signature": "sha256:fb4fdffda36f2cae1a9fbfdba2e4edbab265e2febc5569bb60a9fb4eb6c6cd16"
 },
 "nbformat": 3,
 "nbformat_minor": 0,
 "worksheets": [
  {
   "cells": [
    {
     "cell_type": "markdown",
     "metadata": {},
     "source": [
      "# An\u00e1lisis de la distribuci\u00f3n de Rayleigh "
     ]
    },
    {
     "cell_type": "markdown",
     "metadata": {},
     "source": [
      "#### Nota:\n",
      "Las im\u00e1genes no aparecen en GitHub. Revisar en otro medio\n",
      "\n",
      "## Introducci\u00f3n\n",
      "\n",
      "### Teor\u00eda Cin\u00e9tico-Molecular\n",
      "La mater\u00eda est\u00e1 constituida por part\u00edculas microsc\u00f3picas las cuales pueden ser \u00e1tomos o mol\u00e9culas. En un gas, dichas part\u00edculas est\u00e1n en constante movimiento y son sometidas a fuerzas de atracci\u00f3n y repulsi\u00f3n entre ellas. En este estado, la temperatura depende de la energ\u00eda cin\u00e9tica de las part\u00edculas de la mater\u00eda, en otras palabras, de su movimiento. Asimismo, el choque entre \u00e9stas part\u00edculas es casi perfectamente el\u00e1stico por lo que se puede decir que la energ\u00eda no se pierde en los eventos de colisi\u00f3n con semejantes o con el recipiente que los contiene. \n",
      "\n",
      "### Potencial de Lennard-Jones\n",
      "Es una expresi\u00f3n matem\u00e1tica que busca expresar la interacci\u00f3n entre un par de part\u00edculas neutrales.\n",
      "![](https://upload.wikimedia.org/math/4/b/9/4b9763cd4defb5082534b13dd7290611.png)\n",
      "\n",
      "### Distribuci\u00f3n de Maxwell\u2013Boltzmann\n",
      "Es una distribuci\u00f3n de datos asociada a las velocidades de las part\u00edculas de un gas ideal en equilibrio t\u00e9rmico contenido en un recipiente. Se presenta en los casos en los cuales los \u00e1tomos o mol\u00e9culas s\u00f3lo intercambian energ\u00eda cin\u00e9tica y momentum con choques. Adem\u00e1s, la distribuci\u00f3n depender\u00e1 de la temperatura y la masa de las part\u00edculas.\n",
      "![](https://upload.wikimedia.org/math/e/4/3/e43e83c27b3d1737313dcfcb758091ab.png)\n",
      "![](http://www.entropy-book.com/wp-content/uploads/2013/10/Fig.-3-graph-hot-cold-correct.jpg)\n",
      "\n",
      "### Distribuci\u00f3n de Rayleigh\n",
      "En probabilidad y estad\u00edstica se trata de una distribuci\u00f3n de datos continuos, aleatorios y positivos con patr\u00f3nes distintivos (ver im\u00e1gen).\n",
      "![](https://upload.wikimedia.org/math/1/6/f/16fefe254168289b30776945e9c0bfa5.png)\n",
      "![](https://upload.wikimedia.org/wikipedia/commons/thumb/6/61/Rayleigh_distributionPDF.svg/325px-Rayleigh_distributionPDF.svg.png)\n",
      "\n",
      "## Objetivo\n",
      "El objetivo del laboratorio es llevar cabo una simulaci\u00f3n de la interacci\u00f3n de \u00e1tomos en un gas que interact\u00faan entre s\u00ed seg\u00fan el potencial de Lennard-Jones y analizar los datos acerca de la distribuci\u00f3n de rapideces y su parecido con una distribuci\u00f3n de Rayleigh. \n",
      "\n",
      "## Experimento\n",
      "La ejecuci\u00f3n del experimento fue posible gracias a al software de [\"The Art of Molecular Dynamics Simulation - 2nd edn\"](http://www.ph.biu.ac.il/~rapaport/mdbook/) compartido en l\u00ednea.\n",
      "\n",
      "### Variables\n",
      "Para los siguientes resultados se implementaron los siguientes par\u00e1metros:\n",
      "```\n",
      "density -> 0.8\n",
      "stepAvg -> 50\n",
      "stepLimit -> 1000\n",
      "initUcell -> 40 40\n",
      "```\n"
     ]
    },
    {
     "cell_type": "markdown",
     "metadata": {},
     "source": [
      "## An\u00e1lisis de datos"
     ]
    },
    {
     "cell_type": "code",
     "collapsed": false,
     "input": [
      "#Permite graficar y hacer c\u00e1lculos dentro del mismo cuaderno.\n",
      "%pylab inline\n",
      "import os.path #Permite el uso de direcciones del computador.\n",
      "#Importa los resultados del experimento.\n",
      "archivo = genfromtxt(os.path.expanduser(\"~/MC/Experimentos/Exp1/MB/Rayleigh.csv\"),delimiter=\",\") #Importa el archivo.\n",
      "#Genera las listas con los valores del archivo:\n",
      "x=archivo[:,0] \n",
      "y=archivo[:,1]\n",
      "vx=archivo[:,2]\n",
      "vy=archivo[:,3]"
     ],
     "language": "python",
     "metadata": {},
     "outputs": [
      {
       "output_type": "stream",
       "stream": "stdout",
       "text": [
        "Populating the interactive namespace from numpy and matplotlib\n"
       ]
      }
     ],
     "prompt_number": 1
    },
    {
     "cell_type": "code",
     "collapsed": false,
     "input": [
      "from scipy.optimize import curve_fit #Importa el m\u00f3dulo para hacer ajustes.\n",
      "\n",
      "def rayleighfun (x,s): #Define la forma de la funci\u00f3n a trabajar.\n",
      "    return ((x/s**2)*exp(-x**2/2*s**2))\n",
      "\n",
      "figure(figsize=(10,5))\n",
      "title(\"Rapideces\")\n",
      "a = hist((vx[-1601:-1]**2 + vy[-1601:-1]**2)**0.5, bins = 20, normed= True, color = 'green') #Crea el histograma de las rapideces.\n",
      "x1 = delete (a[1], -1) #Borra un elemento de de las x de los \"bins\" para que quede del mismo tama\u00f1o que las y.\n",
      "y1 = a[0]\n",
      "nonlfit = curve_fit(rayleighfun, x1, y1) #Crea el ajuste no lineal.\n",
      "ajuste = rayleighfun(x1,nonlfit[0][0]) #Genera la funci\u00f3n ajustada para graficar.\n",
      "plot(x1, ajuste, \"r\")  #Plotea el ajuste de Rayleigh.\n",
      "show ()"
     ],
     "language": "python",
     "metadata": {},
     "outputs": [],
     "prompt_number": 7
    },
    {
     "cell_type": "markdown",
     "metadata": {},
     "source": [
      "# Animaci\u00f3n LAMMPS"
     ]
    },
    {
     "cell_type": "code",
     "collapsed": false,
     "input": [
      "%matplotlib tk\n",
      "rcdefaults()\n",
      "from matplotlib import animation\n",
      "atomos=1600\n",
      "fig=figure()\n",
      "ax=fig.add_subplot(1,1,1)\n",
      "ax.grid(True)\n",
      "ax.set_aspect('equal')\n",
      "\n",
      "ims=[]\n",
      "\n",
      "for i in range(len(x)/atomos):\n",
      "    thisx = x[atomos*i:atomos*i+atomos]\n",
      "    thisy = y[atomos*i:atomos*i+atomos]\n",
      "    im1,=ax.plot(thisx,thisy,\"ok\",ms=4)\n",
      "    ims.append([im1])\n",
      "    #if i == (len(x)/atomos - 1):\n",
      "        #savefig(\"LAMMPS.png\")\n",
      "    \n",
      "animado = animation.ArtistAnimation(fig, ims, interval=50, blit=False)\n",
      "#animado.save('LAMMPS.mp4') #Guarda la animaci\u00f3n. No poner a menos de que sea necesario (se demora).\n",
      "plt.show()\n",
      "#La \u00faltima im\u00e1gen fue guardada interactivamente."
     ],
     "language": "python",
     "metadata": {},
     "outputs": [],
     "prompt_number": 6
    },
    {
     "cell_type": "markdown",
     "metadata": {},
     "source": [
      "## Conclusi\u00f3n\n",
      "Se determin\u00f3 que para los \u00faltimos instantes del experimento la distribuci\u00f3n de rapideces se ajusta cada vez m\u00e1s a la distribuci\u00f3n de Rayleigh, lo cu\u00e1l se complementa con la idea de que es el mismo comportamiento descrito en la distribuci\u00f3n de Maxwell\u2013Boltzmann asociada a este tipo de ensambles con gases ideales confinados.\n",
      "\n",
      "Por otra parte, se logr\u00f3 crear una animaci\u00f3n acertada del estado de las part\u00edculas a trav\u00e9s del tiempo para este experimento que se puede apreciar en la siguiente im\u00e1gen.\n",
      "![](https://raw.githubusercontent.com/niveku/MC/master/Tareas/HW3/LAMMPS.png)"
     ]
    },
    {
     "cell_type": "code",
     "collapsed": false,
     "input": [],
     "language": "python",
     "metadata": {},
     "outputs": []
    }
   ],
   "metadata": {}
  }
 ]
}