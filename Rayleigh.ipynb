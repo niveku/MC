{
 "metadata": {
  "name": "",
  "signature": "sha256:0d66fa230af28768ce33f19dc6e5a71d93eef4b72e3aae5938ef31674171c95f"
 },
 "nbformat": 3,
 "nbformat_minor": 0,
 "worksheets": [
  {
   "cells": [
    {
     "cell_type": "code",
     "collapsed": false,
     "input": [
      "import os.path\n",
      "archivo = genfromtxt(os.path.expanduser(\"~/MC/Experimentos/Exp1/MB/Rayleigh.csv\"),delimiter=\",\")\n",
      "x=archivo[:,0]\n",
      "y=archivo[:,1]\n",
      "vx=archivo[:,2]\n",
      "vy=archivo[:,3]\n",
      "print x"
     ],
     "language": "python",
     "metadata": {},
     "outputs": [
      {
       "output_type": "stream",
       "stream": "stdout",
       "text": [
        "[-35.601966 -33.776224 -31.950483 ...,  34.200534  33.77183  -36.085946]\n"
       ]
      }
     ],
     "prompt_number": 42
    },
    {
     "cell_type": "code",
     "collapsed": false,
     "input": [
      "%pylab inline\n",
      "from scipy.optimize import curve_fit\n",
      "\n",
      "def rayleighfun (x,s):\n",
      "    return (1 - exp(-x**2/(2*s)**2))\n",
      "\n",
      "figure(figsize=(10,5))\n",
      "title(\"Rapideces\")\n",
      "a = hist((vx[-1601:-1]**2 + vy[-1601:-1]**2)**0.5)\n",
      "x1 = delete (a[1], -1)\n",
      "y1 = a[0]\n",
      "nonlfit = curve_fit(rayleighfun, x1, y1)\n",
      "#plot(th,func(th,nonlfit[0][0],nonlfit[0][1],nonlfit[0][2]),\"r\")\n",
      "plot(x1,rayleighfun(x1,nonlfit[0][0]),\"r\") \n",
      "show ()\n",
      "print nonlfit[0]"
     ],
     "language": "python",
     "metadata": {},
     "outputs": [
      {
       "output_type": "stream",
       "stream": "stdout",
       "text": [
        "Populating the interactive namespace from numpy and matplotlib\n"
       ]
      },
      {
       "metadata": {},
       "output_type": "display_data",
       "png": "[encoded data removed]",
       "text": [
        "<matplotlib.figure.Figure at 0x3f93b10>"
       ]
      },
      {
       "output_type": "stream",
       "stream": "stdout",
       "text": [
        "[ -7.85411096e-05]\n"
       ]
      }
     ],
     "prompt_number": 72
    },
    {
     "cell_type": "code",
     "collapsed": false,
     "input": [],
     "language": "python",
     "metadata": {},
     "outputs": [
      {
       "output_type": "stream",
       "stream": "stdout",
       "text": [
        "2\n"
       ]
      }
     ],
     "prompt_number": 9
    },
    {
     "cell_type": "code",
     "collapsed": false,
     "input": [],
     "language": "python",
     "metadata": {},
     "outputs": []
    }
   ],
   "metadata": {}
  }
 ]
}