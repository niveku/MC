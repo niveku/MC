{
 "metadata": {
  "name": "",
  "signature": "sha256:aec254659af33d24c2a00ffc2fc64c8cd9f093c3af43d03b9c34e56fd3083d67"
 },
 "nbformat": 3,
 "nbformat_minor": 0,
 "worksheets": [
  {
   "cells": [
    {
     "cell_type": "code",
     "collapsed": false,
     "input": [
      "import numpy as np\n",
      "import matplotlib.pyplot as plt \n",
      "import matplotlib.animation as animation\n",
      "\n",
      "r = 0.1\n",
      "cir = []\n",
      "\n",
      "for i in range(10):\n",
      "    \n",
      "    cir.append(plt.Circle((.5,.5),r,color='r', fill= False))\n",
      "    r = r + 0.1\n",
      "\n",
      "fig = plt.figure(figsize=(5,5))\n",
      "ani = animation.FuncAnimation(fig, circulos, interval=50, repeat_delay=3000,blit=True)\n",
      "plt.show()\n"
     ],
     "language": "python",
     "metadata": {},
     "outputs": [
      {
       "metadata": {},
       "output_type": "display_data",
       "text": [
        "<matplotlib.figure.Figure at 0x3e50dd0>"
       ]
      }
     ],
     "prompt_number": 46
    },
    {
     "cell_type": "code",
     "collapsed": false,
     "input": [
      "import numpy as np\n",
      "import matplotlib.pyplot as plt\n",
      "import matplotlib.animation as animation\n",
      "\n",
      "def update_line(num, data, line):\n",
      "    line.set_data(data[...,:num])\n",
      "    return line,\n",
      "fig1 = plt.figure()\n",
      "data = np.random.rand(2, 25)\n",
      "l, = plt.plot([], [],'r-')\n",
      "plt.xlim(0, 1)\n",
      "plt.ylim(0, 1)\n",
      "plt.xlabel('x')\n",
      "plt.title('test')\n",
      "line_ani = animation.FuncAnimation(fig1, update_line, 25, fargs=(data, l),interval=50, blit=True)\n",
      "#line_ani.save('lines.mp4')\n",
      "fig2 = plt.figure()\n",
      "x = np.arange(-9, 10)\n",
      "y = np.arange(-9, 10).reshape(-1, 1)\n",
      "base = np.hypot(x, y)\n",
      "ims = []\n",
      "\n",
      "for add in np.arange(15):\n",
      "    ims.append((plt.pcolor(x, y, base + add, norm=plt.Normalize(0, 30)),))\n",
      "\n",
      "im_ani = animation.ArtistAnimation(fig2, ims, interval=50, repeat_delay=3000,blit=True)\n",
      "#im_ani.save('im.mp4', metadata={'artist':'Guido'})\n",
      "plt.show()"
     ],
     "language": "python",
     "metadata": {},
     "outputs": [
      {
       "metadata": {},
       "output_type": "display_data",
       "png": "[encoded data removed]",
       "text": [
        "<matplotlib.figure.Figure at 0x3eb03d0>"
       ]
      },
      {
       "metadata": {},
       "output_type": "display_data",
       "png": "[encoded data removed]",
       "text": [
        "<matplotlib.figure.Figure at 0x3b68390>"
       ]
      }
     ],
     "prompt_number": 47
    },
    {
     "cell_type": "code",
     "collapsed": false,
     "input": [],
     "language": "python",
     "metadata": {},
     "outputs": []
    }
   ],
   "metadata": {}
  }
 ]
}