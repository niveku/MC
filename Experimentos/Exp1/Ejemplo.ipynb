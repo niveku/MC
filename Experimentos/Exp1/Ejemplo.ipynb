{
 "metadata": {
  "name": "",
  "signature": "sha256:102eb46ff3203ed04bd730d138fe6bb09adacd0b473679228e4f92424feb5f5a"
 },
 "nbformat": 3,
 "nbformat_minor": 0,
 "worksheets": [
  {
   "cells": [
    {
     "cell_type": "code",
     "collapsed": false,
     "input": [
      "%pylab inline"
     ],
     "language": "python",
     "metadata": {},
     "outputs": [
      {
       "output_type": "stream",
       "stream": "stdout",
       "text": [
        "Populating the interactive namespace from numpy and matplotlib\n"
       ]
      }
     ],
     "prompt_number": 1
    },
    {
     "cell_type": "code",
     "collapsed": false,
     "input": [
      "i=0\n",
      "for r in linspace(0,1,10):\n",
      "    th=linspace(0.,2.*pi,100)\n",
      "    figure()\n",
      "    plot(r*cos(th),r*sin(th))\n",
      "    xlim(-1,1)\n",
      "    ylim(-1,1)\n",
      "    savefig(\"circulo.png\")\n",
      "    close()\n",
      "    i+=1"
     ],
     "language": "python",
     "metadata": {},
     "outputs": [],
     "prompt_number": 11
    },
    {
     "cell_type": "code",
     "collapsed": false,
     "input": [],
     "language": "python",
     "metadata": {},
     "outputs": []
    }
   ],
   "metadata": {}
  }
 ]
}