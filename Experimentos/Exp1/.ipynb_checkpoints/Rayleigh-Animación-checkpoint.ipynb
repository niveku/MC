{
 "metadata": {
  "name": "",
  "signature": "sha256:7c2520e96b041bf39dbaebfddb8dc0c598443b66b16f5e198c659c7db3e819ee"
 },
 "nbformat": 3,
 "nbformat_minor": 0,
 "worksheets": [
  {
   "cells": [
    {
     "cell_type": "code",
     "collapsed": false,
     "input": [
      "#Importa los re sultados del experimento.\n",
      "import os.path #Permite el uso de direcciones del computador.\n",
      "archivo = genfromtxt(os.path.expanduser(\"~/MC/Experimentos/Exp1/MB/Rayleigh.csv\"),delimiter=\",\") #Importa el archivo.\n",
      "#Genera las listas con los valores del archivo:\n",
      "x=archivo[:,0] \n",
      "y=archivo[:,1]\n",
      "vx=archivo[:,2]\n",
      "vy=archivo[:,3]"
     ],
     "language": "python",
     "metadata": {},
     "outputs": [],
     "prompt_number": 2
    },
    {
     "cell_type": "code",
     "collapsed": false,
     "input": [
      "#Permite graficar y hacer c\u00e1lculos dentro del mismo cuaderno.\n",
      "%pylab inline\n",
      "from scipy.optimize import curve_fit #Importa el m\u00f3dulo para hacer ajustes.\n",
      "\n",
      "def rayleighfun (x,s): #Define la forma de la funci\u00f3n a trabajar.\n",
      "    return ((x/s**2)*exp(-x**2/2*s**2))\n",
      "\n",
      "figure(figsize=(10,5))\n",
      "title(\"Rapideces\")\n",
      "a = hist((vx[-1601:-1]**2 + vy[-1601:-1]**2)**0.5, bins = 20, normed= True, color = 'green') #Crea el histograma de las rapideces.\n",
      "x1 = delete (a[1], -1) #Borra un elemento de de las x de los \"bins\" para que quede del mismo tama\u00f1o que las y.\n",
      "y1 = a[0]\n",
      "nonlfit = curve_fit(rayleighfun, x1, y1) #Crea el ajuste no lineal.\n",
      "ajuste = rayleighfun(x1,nonlfit[0][0]) #Genera la funci\u00f3n ajustada para graficar.\n",
      "plot(x1, ajuste, \"r\")  #Plotea el ajuste de Rayleigh.\n",
      "show ()"
     ],
     "language": "python",
     "metadata": {},
     "outputs": [
      {
       "output_type": "stream",
       "stream": "stdout",
       "text": [
        "Populating the interactive namespace from numpy and matplotlib\n"
       ]
      },
      {
       "metadata": {},
       "output_type": "display_data",
       "png": "[encoded data removed]",
       "text": [
        "<matplotlib.figure.Figure at 0x7f052a6afc50>"
       ]
      },
      {
       "output_type": "stream",
       "stream": "stdout",
       "text": [
        "\n"
       ]
      }
     ],
     "prompt_number": 7
    },
    {
     "cell_type": "code",
     "collapsed": false,
     "input": [
      "print \"La desviaci\u00f3n est\u00e1ndar encontrada con el ajuste fue de:\" ,\n",
      "print nonlfit[0][0]\n",
      "print \"La desviaci\u00f3n est\u00e1ndar encontrada directamente de los datos fue:\" ,\n",
      "print std(x1)\n",
      "print \"La distrubuci\u00f3n de rapideces se ajusta de buena forma a la de Rayleigh.\""
     ],
     "language": "python",
     "metadata": {},
     "outputs": [
      {
       "output_type": "stream",
       "stream": "stdout",
       "text": [
        "La desviaci\u00f3n est\u00e1ndar encontrada con el ajuste fue de: 0.997081953468\n",
        "La desviaci\u00f3n est\u00e1ndar encontrada directamente de los datos fue: 0.92593125354\n",
        "La distrubuci\u00f3n de rapideces se ajusta de buena forma a la de Rayleigh.\n"
       ]
      }
     ],
     "prompt_number": 9
    },
    {
     "cell_type": "code",
     "collapsed": false,
     "input": [
      "#Animaci\u00f3n.\n",
      "%pylab\n",
      "rcdefaults()\n",
      "from matplotlib import animation\n",
      "num_atoms=1600\n",
      "fig=figure()\n",
      "ax=fig.add_subplot(1,1,1)#autoscale_on=False, xlim=(-0.1, 59), ylim=(-0.1, 41))\n",
      "ax.grid(True)\n",
      "ax.set_aspect('equal')\n",
      "\n",
      "ims=[]\n",
      "for i in range(50):\n",
      "    thisx = x[num_atoms*i:num_atoms*i+num_atoms]\n",
      "    thisy = y[num_atoms*i:num_atoms*i+num_atoms]\n",
      "    im1,=ax.plot(thisx,thisy,\"ok\",ms=4)\n",
      "    ims.append([im1])\n",
      "    savefig(str(i)+\".png\")"
     ],
     "language": "python",
     "metadata": {},
     "outputs": [
      {
       "output_type": "stream",
       "stream": "stdout",
       "text": [
        "Using matplotlib backend: agg\n",
        "Populating the interactive namespace from numpy and matplotlib\n"
       ]
      }
     ],
     "prompt_number": 14
    },
    {
     "cell_type": "code",
     "collapsed": false,
     "input": [
      "#introduccion teoria mol dis rayleig teor cinetica maxweel bolsman\n",
      "#objetivo toma c\u00f2digo par\u00e0metros\n",
      "#conclusi\u00f3n raleigh"
     ],
     "language": "python",
     "metadata": {},
     "outputs": []
    }
   ],
   "metadata": {}
  }
 ]
}