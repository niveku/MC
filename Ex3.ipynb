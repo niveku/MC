{
 "metadata": {
  "name": "",
  "signature": "sha256:db8309c2d4a639d977d5c7d3b23fdb2525bcba33b2831ce7987ec78a1987c6a6"
 },
 "nbformat": 3,
 "nbformat_minor": 0,
 "worksheets": [
  {
   "cells": [
    {
     "cell_type": "markdown",
     "metadata": {},
     "source": [
      "## Soluci\u00f3n\n",
      "\n",
      "crear\u00e9 un m\u00e9todo que genere puntos en un plano, es decir, de 2 coordenadas a partir de n\u00fameros aleatorios entre 0 y 1 con el m\u00f3dulo random. La lista de estos puntos ser\u00e1 de un valor **N** ungresado por par\u00e1metro.\n",
      "\n",
      "Despu\u00e9s de esto se ingresar\u00e1 en un m\u00e9todo que recorre el largo del arreglo ingresado previniendo realizar distancias repetidas gracias a un doble recorrido que reduce el recorrido peque\u00f1o en funci\u00f3n del recorrido grande.\n",
      "\n",
      "Finalmente, se realiza un lista con los m\u00ednimos de cada generaci\u00f3n de puntos repetidas veces hallando su promedio y se graf\u00edca contra el n\u00famero de **N** en escala logar\u00edtmica."
     ]
    },
    {
     "cell_type": "code",
     "collapsed": false,
     "input": [
      "import numpy as np\n",
      "import matplotlib as mpl\n",
      "import matplotlib.pyplot as plt\n",
      "import random \n",
      "from numpy import linalg as la\n",
      "\n",
      "%matplotlib inline\n",
      "\n",
      "def puntos(N):\n",
      "    lista=np.zeros((N,2))\n",
      "    for i in range(N):\n",
      "        x,y = random.random(),random.random() \n",
      "        lista [i] = ([x,y])\n",
      "    return lista\n",
      "        \n",
      "lista = puntos(4)\n",
      "print lista"
     ],
     "language": "python",
     "metadata": {},
     "outputs": [
      {
       "output_type": "stream",
       "stream": "stdout",
       "text": [
        "[[ 0.79214308  0.67361854]\n",
        " [ 0.7755079   0.41054325]\n",
        " [ 0.89254262  0.10453023]\n",
        " [ 0.2001138   0.53853299]]\n"
       ]
      }
     ],
     "prompt_number": 119
    },
    {
     "cell_type": "code",
     "collapsed": false,
     "input": [
      "def distancia (lista):\n",
      "    dis = []\n",
      "    for j in range(len(lista)):\n",
      "        #print \"j\",j\n",
      "        a=lista[j]\n",
      "        for i in range(1,len(lista)-j):\n",
      "            #print i+j\n",
      "            b=lista[i+j]\n",
      "            #print \"norma:\", la.norm(a-b)\n",
      "            dis.append(la.norm(a-b))\n",
      "    return dis\n",
      "\n",
      "d=distancia(lista)\n",
      "print min(d)       "
     ],
     "language": "python",
     "metadata": {},
     "outputs": [
      {
       "output_type": "stream",
       "stream": "stdout",
       "text": [
        "0.263600709514\n"
       ]
      }
     ],
     "prompt_number": 120
    },
    {
     "cell_type": "code",
     "collapsed": false,
     "input": [
      "nMax= 128\n",
      "repeticiones= 100\n",
      "prom = []\n",
      "ns=np.linspace(2,nMax,10)\n",
      "for k in ns:\n",
      "    print k\n",
      "    mini = []\n",
      "    for r in range(repeticiones):\n",
      "        lista = puntos(int(k))\n",
      "        d=distancia(lista)\n",
      "        mini.append(min(d))\n",
      "    \n",
      "    prom.append(sum(mini)/repeticiones)\n",
      "\n",
      "prom = np.array(prom)\n",
      "\n",
      "print len(ns), len(prom)\n",
      "\n",
      "plt.figure(figsize=(10,10))\n",
      "plt.plot(ns,prom,\"o\")\n",
      "plt.yscale('log')\n",
      "plt.xscale('log')\n",
      "plt.xlim(0,128)\n",
      "plt.title(u\"Distancias m\u00ednimas promedio\")\n",
      "plt.ylabel(\"$d_{p}$\")\n",
      "plt.xlabel(\"N\")\n",
      "plt.show()\n",
      "    "
     ],
     "language": "python",
     "metadata": {},
     "outputs": [
      {
       "output_type": "stream",
       "stream": "stdout",
       "text": [
        "2.0\n",
        "16.0\n",
        "30.0"
       ]
      },
      {
       "output_type": "stream",
       "stream": "stdout",
       "text": [
        "\n",
        "44.0"
       ]
      },
      {
       "output_type": "stream",
       "stream": "stdout",
       "text": [
        "\n",
        "58.0"
       ]
      },
      {
       "output_type": "stream",
       "stream": "stdout",
       "text": [
        "\n",
        "72.0"
       ]
      },
      {
       "output_type": "stream",
       "stream": "stdout",
       "text": [
        "\n",
        "86.0"
       ]
      },
      {
       "output_type": "stream",
       "stream": "stdout",
       "text": [
        "\n",
        "100.0"
       ]
      },
      {
       "output_type": "stream",
       "stream": "stdout",
       "text": [
        "\n",
        "114.0"
       ]
      },
      {
       "output_type": "stream",
       "stream": "stdout",
       "text": [
        "\n",
        "128.0"
       ]
      },
      {
       "output_type": "stream",
       "stream": "stdout",
       "text": [
        "\n",
        "10"
       ]
      },
      {
       "output_type": "stream",
       "stream": "stdout",
       "text": [
        " 10\n"
       ]
      },
      {
       "metadata": {},
       "output_type": "display_data",
       "png": "[encoded data removed]",
       "text": [
        "<matplotlib.figure.Figure at 0x4087950>"
       ]
      }
     ],
     "prompt_number": 137
    },
    {
     "cell_type": "code",
     "collapsed": false,
     "input": [],
     "language": "python",
     "metadata": {},
     "outputs": []
    }
   ],
   "metadata": {}
  }
 ]
}