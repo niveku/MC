{
 "metadata": {
  "name": "",
  "signature": "sha256:08954a3cb023c5de1516daf9926fff1c1774ea5c045915e46b337c804e5691cd"
 },
 "nbformat": 3,
 "nbformat_minor": 0,
 "worksheets": [
  {
   "cells": [
    {
     "cell_type": "code",
     "collapsed": false,
     "input": [
      "#Exercise 10:Arithmetic (Solved\u201420 Lines)\n",
      "# Createaprogramthatreadstwointegers, a and b,from the user.Your program should compute and display:\n",
      "#\u2022 The sum of a and b \n",
      "#\u2022 The difference when b is subtracted from a \n",
      "#\u2022 The product of a and b\n",
      "#\u2022 The quotient when a is divided by b\n",
      "#\u2022 The remainder when a is divided by b\n",
      "#\u2022 The result of log10a\n",
      "#\u2022 The result of a^b\n",
      "\n",
      "from math import exp, expm1\n",
      "a = input(\"valor para a:\")\n",
      "b = input(\"valor para b:\")\n",
      "print a+b\n",
      "print a-b\n",
      "print a*b\n",
      "print a/b\n",
      "print a%b\n",
      "print math.log10(a)\n",
      "print a**b"
     ],
     "language": "python",
     "metadata": {},
     "outputs": [
      {
       "name": "stdout",
       "output_type": "stream",
       "stream": "stdout",
       "text": [
        "valor para a:8\n"
       ]
      },
      {
       "name": "stdout",
       "output_type": "stream",
       "stream": "stdout",
       "text": [
        "valor para b:4\n"
       ]
      },
      {
       "output_type": "stream",
       "stream": "stdout",
       "text": [
        "12\n",
        "4\n",
        "32\n",
        "2\n",
        "0\n",
        "0.903089986992\n",
        "4096\n"
       ]
      }
     ],
     "prompt_number": 5
    },
    {
     "cell_type": "code",
     "collapsed": false,
     "input": [],
     "language": "python",
     "metadata": {},
     "outputs": []
    }
   ],
   "metadata": {}
  }
 ]
}